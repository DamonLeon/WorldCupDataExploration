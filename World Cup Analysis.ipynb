{
 "cells": [
  {
   "cell_type": "markdown",
   "metadata": {},
   "source": [
    "QATAR WORLD CUP 2022 ANALYSIS"
   ]
  },
  {
   "cell_type": "markdown",
   "metadata": {},
   "source": [
    "Intro\n",
    "\n",
    "On my exchange semester in the UK I was lucky enough to be able to watch most of the world cup games either at home or on a night out, being in such a good time zone. \n",
    "\n",
    "\n",
    "Being a big football fan myself I wanted analyse the results of the World Cup from a data perspective"
   ]
  }
 ],
 "metadata": {
  "language_info": {
   "name": "python"
  },
  "orig_nbformat": 4
 },
 "nbformat": 4,
 "nbformat_minor": 2
}
