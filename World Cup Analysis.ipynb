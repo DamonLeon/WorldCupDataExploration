{
 "cells": [
  {
   "attachments": {},
   "cell_type": "markdown",
   "metadata": {},
   "source": [
    "# QATAR WORLD CUP 2022 ANALYSIS"
   ]
  },
  {
   "attachments": {},
   "cell_type": "markdown",
   "metadata": {},
   "source": [
    "## Step 0 - Imports and Reading Data"
   ]
  },
  {
   "cell_type": "code",
   "execution_count": 103,
   "metadata": {},
   "outputs": [],
   "source": [
    "import pandas as pd\n",
    "import numpy as np\n",
    "import matplotlib.pyplot as plt\n",
    "from geopy.geocoders import Nominatim\n"
   ]
  },
  {
   "attachments": {},
   "cell_type": "markdown",
   "metadata": {},
   "source": [
    "## Step 1 - Data Understanding"
   ]
  },
  {
   "cell_type": "code",
   "execution_count": 3,
   "metadata": {},
   "outputs": [
    {
     "data": {
      "text/html": [
       "<div>\n",
       "<style scoped>\n",
       "    .dataframe tbody tr th:only-of-type {\n",
       "        vertical-align: middle;\n",
       "    }\n",
       "\n",
       "    .dataframe tbody tr th {\n",
       "        vertical-align: top;\n",
       "    }\n",
       "\n",
       "    .dataframe thead th {\n",
       "        text-align: right;\n",
       "    }\n",
       "</style>\n",
       "<table border=\"1\" class=\"dataframe\">\n",
       "  <thead>\n",
       "    <tr style=\"text-align: right;\">\n",
       "      <th></th>\n",
       "      <th>team1</th>\n",
       "      <th>team2</th>\n",
       "      <th>possession team1</th>\n",
       "      <th>possession team2</th>\n",
       "      <th>possession in contest</th>\n",
       "      <th>number of goals team1</th>\n",
       "      <th>number of goals team2</th>\n",
       "      <th>date</th>\n",
       "      <th>hour</th>\n",
       "      <th>category</th>\n",
       "      <th>...</th>\n",
       "      <th>penalties scored team1</th>\n",
       "      <th>penalties scored team2</th>\n",
       "      <th>goal preventions team1</th>\n",
       "      <th>goal preventions team2</th>\n",
       "      <th>own goals team1</th>\n",
       "      <th>own goals team2</th>\n",
       "      <th>forced turnovers team1</th>\n",
       "      <th>forced turnovers team2</th>\n",
       "      <th>defensive pressures applied team1</th>\n",
       "      <th>defensive pressures applied team2</th>\n",
       "    </tr>\n",
       "  </thead>\n",
       "  <tbody>\n",
       "    <tr>\n",
       "      <th>0</th>\n",
       "      <td>QATAR</td>\n",
       "      <td>ECUADOR</td>\n",
       "      <td>42%</td>\n",
       "      <td>50%</td>\n",
       "      <td>8%</td>\n",
       "      <td>0</td>\n",
       "      <td>2</td>\n",
       "      <td>20 NOV 2022</td>\n",
       "      <td>17 : 00</td>\n",
       "      <td>Group A</td>\n",
       "      <td>...</td>\n",
       "      <td>0</td>\n",
       "      <td>1</td>\n",
       "      <td>6</td>\n",
       "      <td>5</td>\n",
       "      <td>0</td>\n",
       "      <td>0</td>\n",
       "      <td>52</td>\n",
       "      <td>72</td>\n",
       "      <td>256</td>\n",
       "      <td>279</td>\n",
       "    </tr>\n",
       "    <tr>\n",
       "      <th>1</th>\n",
       "      <td>ENGLAND</td>\n",
       "      <td>IRAN</td>\n",
       "      <td>72%</td>\n",
       "      <td>19%</td>\n",
       "      <td>9%</td>\n",
       "      <td>6</td>\n",
       "      <td>2</td>\n",
       "      <td>21 NOV 2022</td>\n",
       "      <td>14 : 00</td>\n",
       "      <td>Group B</td>\n",
       "      <td>...</td>\n",
       "      <td>0</td>\n",
       "      <td>1</td>\n",
       "      <td>8</td>\n",
       "      <td>13</td>\n",
       "      <td>0</td>\n",
       "      <td>0</td>\n",
       "      <td>63</td>\n",
       "      <td>72</td>\n",
       "      <td>139</td>\n",
       "      <td>416</td>\n",
       "    </tr>\n",
       "    <tr>\n",
       "      <th>2</th>\n",
       "      <td>SENEGAL</td>\n",
       "      <td>NETHERLANDS</td>\n",
       "      <td>44%</td>\n",
       "      <td>45%</td>\n",
       "      <td>11%</td>\n",
       "      <td>0</td>\n",
       "      <td>2</td>\n",
       "      <td>21 NOV 2022</td>\n",
       "      <td>17 : 00</td>\n",
       "      <td>Group A</td>\n",
       "      <td>...</td>\n",
       "      <td>0</td>\n",
       "      <td>0</td>\n",
       "      <td>9</td>\n",
       "      <td>15</td>\n",
       "      <td>0</td>\n",
       "      <td>0</td>\n",
       "      <td>63</td>\n",
       "      <td>73</td>\n",
       "      <td>263</td>\n",
       "      <td>251</td>\n",
       "    </tr>\n",
       "    <tr>\n",
       "      <th>3</th>\n",
       "      <td>UNITED STATES</td>\n",
       "      <td>WALES</td>\n",
       "      <td>51%</td>\n",
       "      <td>39%</td>\n",
       "      <td>10%</td>\n",
       "      <td>1</td>\n",
       "      <td>1</td>\n",
       "      <td>21 NOV 2022</td>\n",
       "      <td>20 : 00</td>\n",
       "      <td>Group B</td>\n",
       "      <td>...</td>\n",
       "      <td>0</td>\n",
       "      <td>1</td>\n",
       "      <td>7</td>\n",
       "      <td>7</td>\n",
       "      <td>0</td>\n",
       "      <td>0</td>\n",
       "      <td>81</td>\n",
       "      <td>72</td>\n",
       "      <td>242</td>\n",
       "      <td>292</td>\n",
       "    </tr>\n",
       "    <tr>\n",
       "      <th>4</th>\n",
       "      <td>ARGENTINA</td>\n",
       "      <td>SAUDI ARABIA</td>\n",
       "      <td>64%</td>\n",
       "      <td>24%</td>\n",
       "      <td>12%</td>\n",
       "      <td>1</td>\n",
       "      <td>2</td>\n",
       "      <td>22 NOV 2022</td>\n",
       "      <td>11 : 00</td>\n",
       "      <td>Group C</td>\n",
       "      <td>...</td>\n",
       "      <td>1</td>\n",
       "      <td>0</td>\n",
       "      <td>4</td>\n",
       "      <td>14</td>\n",
       "      <td>0</td>\n",
       "      <td>0</td>\n",
       "      <td>65</td>\n",
       "      <td>80</td>\n",
       "      <td>163</td>\n",
       "      <td>361</td>\n",
       "    </tr>\n",
       "  </tbody>\n",
       "</table>\n",
       "<p>5 rows × 88 columns</p>\n",
       "</div>"
      ],
      "text/plain": [
       "           team1         team2 possession team1 possession team2  \\\n",
       "0          QATAR       ECUADOR              42%              50%   \n",
       "1        ENGLAND          IRAN              72%              19%   \n",
       "2        SENEGAL   NETHERLANDS              44%              45%   \n",
       "3  UNITED STATES         WALES              51%              39%   \n",
       "4      ARGENTINA  SAUDI ARABIA              64%              24%   \n",
       "\n",
       "  possession in contest  number of goals team1  number of goals team2  \\\n",
       "0                    8%                      0                      2   \n",
       "1                    9%                      6                      2   \n",
       "2                   11%                      0                      2   \n",
       "3                   10%                      1                      1   \n",
       "4                   12%                      1                      2   \n",
       "\n",
       "          date     hour category  ...  penalties scored team1  \\\n",
       "0  20 NOV 2022  17 : 00  Group A  ...                       0   \n",
       "1  21 NOV 2022  14 : 00  Group B  ...                       0   \n",
       "2  21 NOV 2022  17 : 00  Group A  ...                       0   \n",
       "3  21 NOV 2022  20 : 00  Group B  ...                       0   \n",
       "4  22 NOV 2022  11 : 00  Group C  ...                       1   \n",
       "\n",
       "   penalties scored team2  goal preventions team1  goal preventions team2  \\\n",
       "0                       1                       6                       5   \n",
       "1                       1                       8                      13   \n",
       "2                       0                       9                      15   \n",
       "3                       1                       7                       7   \n",
       "4                       0                       4                      14   \n",
       "\n",
       "   own goals team1  own goals team2  forced turnovers team1  \\\n",
       "0                0                0                      52   \n",
       "1                0                0                      63   \n",
       "2                0                0                      63   \n",
       "3                0                0                      81   \n",
       "4                0                0                      65   \n",
       "\n",
       "   forced turnovers team2  defensive pressures applied team1  \\\n",
       "0                      72                                256   \n",
       "1                      72                                139   \n",
       "2                      73                                263   \n",
       "3                      72                                242   \n",
       "4                      80                                163   \n",
       "\n",
       "   defensive pressures applied team2  \n",
       "0                                279  \n",
       "1                                416  \n",
       "2                                251  \n",
       "3                                292  \n",
       "4                                361  \n",
       "\n",
       "[5 rows x 88 columns]"
      ]
     },
     "execution_count": 3,
     "metadata": {},
     "output_type": "execute_result"
    }
   ],
   "source": [
    "df = pd.read_csv('Fifa_world_cup_matches.csv')\n",
    "df.head()"
   ]
  },
  {
   "cell_type": "code",
   "execution_count": 4,
   "metadata": {},
   "outputs": [
    {
     "data": {
      "text/plain": [
       "(64, 88)"
      ]
     },
     "execution_count": 4,
     "metadata": {},
     "output_type": "execute_result"
    }
   ],
   "source": [
    "df.shape"
   ]
  },
  {
   "cell_type": "code",
   "execution_count": 5,
   "metadata": {},
   "outputs": [
    {
     "data": {
      "text/plain": [
       "Index(['team1', 'team2', 'possession team1', 'possession team2',\n",
       "       'possession in contest', 'number of goals team1',\n",
       "       'number of goals team2', 'date', 'hour', 'category',\n",
       "       'total attempts team1', 'total attempts team2', 'conceded team1',\n",
       "       'conceded team2', 'goal inside the penalty area team1',\n",
       "       'goal inside the penalty area team2',\n",
       "       'goal outside the penalty area team1',\n",
       "       'goal outside the penalty area team2', 'assists team1', 'assists team2',\n",
       "       'on target attempts team1', 'on target attempts team2',\n",
       "       'off target attempts team1', 'off target attempts team2',\n",
       "       'attempts inside the penalty area team1',\n",
       "       'attempts inside the penalty area  team2',\n",
       "       'attempts outside the penalty area  team1',\n",
       "       'attempts outside the penalty area  team2', 'left channel team1',\n",
       "       'left channel team2', 'left inside channel team1',\n",
       "       'left inside channel team2', 'central channel team1',\n",
       "       'central channel team2', 'right inside channel team1',\n",
       "       'right inside channel team2', 'right channel team1',\n",
       "       'right channel team2', 'total offers to receive team1',\n",
       "       'total offers to receive team2', 'inbehind offers to receive team1',\n",
       "       'inbehind offers to receive team2', 'inbetween offers to receive team1',\n",
       "       'inbetween offers to receive team2', 'infront offers to receive team1',\n",
       "       'infront offers to receive team2',\n",
       "       'receptions between midfield and defensive lines team1',\n",
       "       'receptions between midfield and defensive lines team2',\n",
       "       'attempted line breaks team1', 'attempted line breaks team2',\n",
       "       'completed line breaksteam1', 'completed line breaks team2',\n",
       "       'attempted defensive line breaks team1',\n",
       "       'attempted defensive line breaks team2',\n",
       "       'completed defensive line breaksteam1',\n",
       "       'completed defensive line breaks team2', 'yellow cards team1',\n",
       "       'yellow cards team2', 'red cards team1', 'red cards team2',\n",
       "       'fouls against team1', 'fouls against team2', 'offsides team1',\n",
       "       'offsides team2', 'passes team1', 'passes team2',\n",
       "       'passes completed team1', 'passes completed team2', 'crosses team1',\n",
       "       'crosses team2', 'crosses completed team1', 'crosses completed team2',\n",
       "       'switches of play completed team1', 'switches of play completed team2',\n",
       "       'corners team1', 'corners team2', 'free kicks team1',\n",
       "       'free kicks team2', 'penalties scored team1', 'penalties scored team2',\n",
       "       'goal preventions team1', 'goal preventions team2', 'own goals team1',\n",
       "       'own goals team2', 'forced turnovers team1', 'forced turnovers team2',\n",
       "       'defensive pressures applied team1',\n",
       "       'defensive pressures applied team2'],\n",
       "      dtype='object')"
      ]
     },
     "execution_count": 5,
     "metadata": {},
     "output_type": "execute_result"
    }
   ],
   "source": [
    "df.columns"
   ]
  },
  {
   "cell_type": "code",
   "execution_count": 6,
   "metadata": {},
   "outputs": [
    {
     "data": {
      "text/plain": [
       "team1                                object\n",
       "team2                                object\n",
       "possession team1                     object\n",
       "possession team2                     object\n",
       "possession in contest                object\n",
       "                                      ...  \n",
       "own goals team2                       int64\n",
       "forced turnovers team1                int64\n",
       "forced turnovers team2                int64\n",
       "defensive pressures applied team1     int64\n",
       "defensive pressures applied team2     int64\n",
       "Length: 88, dtype: object"
      ]
     },
     "execution_count": 6,
     "metadata": {},
     "output_type": "execute_result"
    }
   ],
   "source": [
    "df.dtypes"
   ]
  },
  {
   "cell_type": "code",
   "execution_count": 7,
   "metadata": {},
   "outputs": [
    {
     "data": {
      "text/plain": [
       "<bound method NDFrame.describe of             team1         team2 possession team1 possession team2  \\\n",
       "0           QATAR       ECUADOR              42%              50%   \n",
       "1         ENGLAND          IRAN              72%              19%   \n",
       "2         SENEGAL   NETHERLANDS              44%              45%   \n",
       "3   UNITED STATES         WALES              51%              39%   \n",
       "4       ARGENTINA  SAUDI ARABIA              64%              24%   \n",
       "..            ...           ...              ...              ...   \n",
       "59        ENGLAND        FRANCE              54%              36%   \n",
       "60      ARGENTINA       CROATIA              34%              54%   \n",
       "61         FRANCE       MOROCCO              34%              55%   \n",
       "62        CROATIA       MOROCCO              45%              45%   \n",
       "63      ARGENTINA        FRANCE              46%              40%   \n",
       "\n",
       "   possession in contest  number of goals team1  number of goals team2  \\\n",
       "0                     8%                      0                      2   \n",
       "1                     9%                      6                      2   \n",
       "2                    11%                      0                      2   \n",
       "3                    10%                      1                      1   \n",
       "4                    12%                      1                      2   \n",
       "..                   ...                    ...                    ...   \n",
       "59                   10%                      1                      2   \n",
       "60                   12%                      3                      0   \n",
       "61                   11%                      2                      0   \n",
       "62                   10%                      2                      1   \n",
       "63                   14%                      3                      3   \n",
       "\n",
       "           date     hour                  category  ...  \\\n",
       "0   20 NOV 2022  17 : 00                   Group A  ...   \n",
       "1   21 NOV 2022  14 : 00                   Group B  ...   \n",
       "2   21 NOV 2022  17 : 00                   Group A  ...   \n",
       "3   21 NOV 2022  20 : 00                   Group B  ...   \n",
       "4   22 NOV 2022  11 : 00                   Group C  ...   \n",
       "..          ...      ...                       ...  ...   \n",
       "59  10 DEC 2022  20 : 00             Quarter-final  ...   \n",
       "60  13 DEC 2022  20 : 00                Semi-final  ...   \n",
       "61  14 DEC 2022  20 : 00                Semi-final  ...   \n",
       "62  17 DEC 2022  16 : 00  Play-off for third place  ...   \n",
       "63  18 DEC 2022  16 : 00                     Final  ...   \n",
       "\n",
       "    penalties scored team1  penalties scored team2  goal preventions team1  \\\n",
       "0                        0                       1                       6   \n",
       "1                        0                       1                       8   \n",
       "2                        0                       0                       9   \n",
       "3                        0                       1                       7   \n",
       "4                        1                       0                       4   \n",
       "..                     ...                     ...                     ...   \n",
       "59                       1                       0                       9   \n",
       "60                       1                       0                      12   \n",
       "61                       0                       0                      13   \n",
       "62                       0                       0                       7   \n",
       "63                       1                       2                      11   \n",
       "\n",
       "    goal preventions team2  own goals team1  own goals team2  \\\n",
       "0                        5                0                0   \n",
       "1                       13                0                0   \n",
       "2                       15                0                0   \n",
       "3                        7                0                0   \n",
       "4                       14                0                0   \n",
       "..                     ...              ...              ...   \n",
       "59                      15                0                0   \n",
       "60                      10                0                0   \n",
       "61                      14                0                0   \n",
       "62                      14                0                0   \n",
       "63                      21                0                0   \n",
       "\n",
       "    forced turnovers team1  forced turnovers team2  \\\n",
       "0                       52                      72   \n",
       "1                       63                      72   \n",
       "2                       63                      73   \n",
       "3                       81                      72   \n",
       "4                       65                      80   \n",
       "..                     ...                     ...   \n",
       "59                      49                      54   \n",
       "60                      85                      63   \n",
       "61                      72                      47   \n",
       "62                      75                      72   \n",
       "63                      87                     104   \n",
       "\n",
       "    defensive pressures applied team1  defensive pressures applied team2  \n",
       "0                                 256                                279  \n",
       "1                                 139                                416  \n",
       "2                                 263                                251  \n",
       "3                                 242                                292  \n",
       "4                                 163                                361  \n",
       "..                                ...                                ...  \n",
       "59                                193                                308  \n",
       "60                                321                                260  \n",
       "61                                328                                218  \n",
       "62                                288                                277  \n",
       "63                                280                                409  \n",
       "\n",
       "[64 rows x 88 columns]>"
      ]
     },
     "execution_count": 7,
     "metadata": {},
     "output_type": "execute_result"
    }
   ],
   "source": [
    "df.describe"
   ]
  },
  {
   "cell_type": "code",
   "execution_count": 8,
   "metadata": {},
   "outputs": [
    {
     "data": {
      "text/plain": [
       "team1                                0\n",
       "team2                                0\n",
       "possession team1                     0\n",
       "possession team2                     0\n",
       "possession in contest                0\n",
       "                                    ..\n",
       "own goals team2                      0\n",
       "forced turnovers team1               0\n",
       "forced turnovers team2               0\n",
       "defensive pressures applied team1    0\n",
       "defensive pressures applied team2    0\n",
       "Length: 88, dtype: int64"
      ]
     },
     "execution_count": 8,
     "metadata": {},
     "output_type": "execute_result"
    }
   ],
   "source": [
    "# Check for any null values\n",
    "df.isnull().sum()"
   ]
  },
  {
   "cell_type": "code",
   "execution_count": 9,
   "metadata": {},
   "outputs": [
    {
     "name": "stdout",
     "output_type": "stream",
     "text": [
      "<class 'pandas.core.frame.DataFrame'>\n",
      "RangeIndex: 64 entries, 0 to 63\n",
      "Data columns (total 88 columns):\n",
      " #   Column                                                 Non-Null Count  Dtype \n",
      "---  ------                                                 --------------  ----- \n",
      " 0   team1                                                  64 non-null     object\n",
      " 1   team2                                                  64 non-null     object\n",
      " 2   possession team1                                       64 non-null     object\n",
      " 3   possession team2                                       64 non-null     object\n",
      " 4   possession in contest                                  64 non-null     object\n",
      " 5   number of goals team1                                  64 non-null     int64 \n",
      " 6   number of goals team2                                  64 non-null     int64 \n",
      " 7   date                                                   64 non-null     object\n",
      " 8   hour                                                   64 non-null     object\n",
      " 9   category                                               64 non-null     object\n",
      " 10  total attempts team1                                   64 non-null     int64 \n",
      " 11  total attempts team2                                   64 non-null     int64 \n",
      " 12  conceded team1                                         64 non-null     int64 \n",
      " 13  conceded team2                                         64 non-null     int64 \n",
      " 14  goal inside the penalty area team1                     64 non-null     int64 \n",
      " 15  goal inside the penalty area team2                     64 non-null     int64 \n",
      " 16  goal outside the penalty area team1                    64 non-null     int64 \n",
      " 17  goal outside the penalty area team2                    64 non-null     int64 \n",
      " 18  assists team1                                          64 non-null     int64 \n",
      " 19  assists team2                                          64 non-null     int64 \n",
      " 20  on target attempts team1                               64 non-null     int64 \n",
      " 21  on target attempts team2                               64 non-null     int64 \n",
      " 22  off target attempts team1                              64 non-null     int64 \n",
      " 23  off target attempts team2                              64 non-null     int64 \n",
      " 24  attempts inside the penalty area team1                 64 non-null     int64 \n",
      " 25  attempts inside the penalty area  team2                64 non-null     int64 \n",
      " 26  attempts outside the penalty area  team1               64 non-null     int64 \n",
      " 27  attempts outside the penalty area  team2               64 non-null     int64 \n",
      " 28  left channel team1                                     64 non-null     int64 \n",
      " 29  left channel team2                                     64 non-null     int64 \n",
      " 30  left inside channel team1                              64 non-null     int64 \n",
      " 31  left inside channel team2                              64 non-null     int64 \n",
      " 32  central channel team1                                  64 non-null     int64 \n",
      " 33  central channel team2                                  64 non-null     int64 \n",
      " 34  right inside channel team1                             64 non-null     int64 \n",
      " 35  right inside channel team2                             64 non-null     int64 \n",
      " 36  right channel team1                                    64 non-null     int64 \n",
      " 37  right channel team2                                    64 non-null     int64 \n",
      " 38  total offers to receive team1                          64 non-null     int64 \n",
      " 39  total offers to receive team2                          64 non-null     int64 \n",
      " 40  inbehind offers to receive team1                       64 non-null     int64 \n",
      " 41  inbehind offers to receive team2                       64 non-null     int64 \n",
      " 42  inbetween offers to receive team1                      64 non-null     int64 \n",
      " 43  inbetween offers to receive team2                      64 non-null     int64 \n",
      " 44  infront offers to receive team1                        64 non-null     int64 \n",
      " 45  infront offers to receive team2                        64 non-null     int64 \n",
      " 46  receptions between midfield and defensive lines team1  64 non-null     int64 \n",
      " 47  receptions between midfield and defensive lines team2  64 non-null     int64 \n",
      " 48  attempted line breaks team1                            64 non-null     int64 \n",
      " 49  attempted line breaks team2                            64 non-null     int64 \n",
      " 50  completed line breaksteam1                             64 non-null     int64 \n",
      " 51  completed line breaks team2                            64 non-null     int64 \n",
      " 52  attempted defensive line breaks team1                  64 non-null     int64 \n",
      " 53  attempted defensive line breaks team2                  64 non-null     int64 \n",
      " 54  completed defensive line breaksteam1                   64 non-null     int64 \n",
      " 55  completed defensive line breaks team2                  64 non-null     int64 \n",
      " 56  yellow cards team1                                     64 non-null     int64 \n",
      " 57  yellow cards team2                                     64 non-null     int64 \n",
      " 58  red cards team1                                        64 non-null     int64 \n",
      " 59  red cards team2                                        64 non-null     int64 \n",
      " 60  fouls against team1                                    64 non-null     int64 \n",
      " 61  fouls against team2                                    64 non-null     int64 \n",
      " 62  offsides team1                                         64 non-null     int64 \n",
      " 63  offsides team2                                         64 non-null     int64 \n",
      " 64  passes team1                                           64 non-null     int64 \n",
      " 65  passes team2                                           64 non-null     int64 \n",
      " 66  passes completed team1                                 64 non-null     int64 \n",
      " 67  passes completed team2                                 64 non-null     int64 \n",
      " 68  crosses team1                                          64 non-null     int64 \n",
      " 69  crosses team2                                          64 non-null     int64 \n",
      " 70  crosses completed team1                                64 non-null     int64 \n",
      " 71  crosses completed team2                                64 non-null     int64 \n",
      " 72  switches of play completed team1                       64 non-null     int64 \n",
      " 73  switches of play completed team2                       64 non-null     int64 \n",
      " 74  corners team1                                          64 non-null     int64 \n",
      " 75  corners team2                                          64 non-null     int64 \n",
      " 76  free kicks team1                                       64 non-null     int64 \n",
      " 77  free kicks team2                                       64 non-null     int64 \n",
      " 78  penalties scored team1                                 64 non-null     int64 \n",
      " 79  penalties scored team2                                 64 non-null     int64 \n",
      " 80  goal preventions team1                                 64 non-null     int64 \n",
      " 81  goal preventions team2                                 64 non-null     int64 \n",
      " 82  own goals team1                                        64 non-null     int64 \n",
      " 83  own goals team2                                        64 non-null     int64 \n",
      " 84  forced turnovers team1                                 64 non-null     int64 \n",
      " 85  forced turnovers team2                                 64 non-null     int64 \n",
      " 86  defensive pressures applied team1                      64 non-null     int64 \n",
      " 87  defensive pressures applied team2                      64 non-null     int64 \n",
      "dtypes: int64(80), object(8)\n",
      "memory usage: 44.1+ KB\n"
     ]
    }
   ],
   "source": [
    "df.info()"
   ]
  },
  {
   "cell_type": "code",
   "execution_count": 10,
   "metadata": {},
   "outputs": [
    {
     "data": {
      "text/plain": [
       "0     False\n",
       "1     False\n",
       "2     False\n",
       "3     False\n",
       "4     False\n",
       "      ...  \n",
       "59    False\n",
       "60    False\n",
       "61    False\n",
       "62    False\n",
       "63    False\n",
       "Length: 64, dtype: bool"
      ]
     },
     "execution_count": 10,
     "metadata": {},
     "output_type": "execute_result"
    }
   ],
   "source": [
    "# Check for any duplicated values\n",
    "df.duplicated()"
   ]
  },
  {
   "attachments": {},
   "cell_type": "markdown",
   "metadata": {},
   "source": [
    "## Step 2 - Data Preparation"
   ]
  },
  {
   "attachments": {},
   "cell_type": "markdown",
   "metadata": {},
   "source": [
    "Let's identify some of the data points which look interesting\n",
    "\n",
    "- Possession\n",
    "- Number of Goals Scored\n",
    "- Goals Conceded \n",
    "- Number of Attempts \n",
    "- Yellow Cards/ Red Cards\n",
    "- Passes & Pass completion"
   ]
  },
  {
   "attachments": {},
   "cell_type": "markdown",
   "metadata": {},
   "source": [
    "## Step 3 - Feature Understanding"
   ]
  },
  {
   "attachments": {},
   "cell_type": "markdown",
   "metadata": {},
   "source": [
    "### Goals"
   ]
  },
  {
   "cell_type": "code",
   "execution_count": 11,
   "metadata": {},
   "outputs": [],
   "source": [
    "team_goals = df.groupby('team1')['number of goals team1'].sum().reset_index()\n",
    "team_goals.columns = ['Team', 'Goals Scored']\n",
    "\n",
    "\n",
    "team_goals['Goals Scored'] += df.groupby('team2')['number of goals team2'].sum().reset_index()['number of goals team2']"
   ]
  },
  {
   "cell_type": "code",
   "execution_count": 12,
   "metadata": {},
   "outputs": [
    {
     "data": {
      "text/html": [
       "<div>\n",
       "<style scoped>\n",
       "    .dataframe tbody tr th:only-of-type {\n",
       "        vertical-align: middle;\n",
       "    }\n",
       "\n",
       "    .dataframe tbody tr th {\n",
       "        vertical-align: top;\n",
       "    }\n",
       "\n",
       "    .dataframe thead th {\n",
       "        text-align: right;\n",
       "    }\n",
       "</style>\n",
       "<table border=\"1\" class=\"dataframe\">\n",
       "  <thead>\n",
       "    <tr style=\"text-align: right;\">\n",
       "      <th></th>\n",
       "      <th>Team</th>\n",
       "      <th>Goals Scored</th>\n",
       "    </tr>\n",
       "  </thead>\n",
       "  <tbody>\n",
       "    <tr>\n",
       "      <th>0</th>\n",
       "      <td>ARGENTINA</td>\n",
       "      <td>15</td>\n",
       "    </tr>\n",
       "    <tr>\n",
       "      <th>1</th>\n",
       "      <td>AUSTRALIA</td>\n",
       "      <td>4</td>\n",
       "    </tr>\n",
       "    <tr>\n",
       "      <th>2</th>\n",
       "      <td>BELGIUM</td>\n",
       "      <td>1</td>\n",
       "    </tr>\n",
       "    <tr>\n",
       "      <th>3</th>\n",
       "      <td>BRAZIL</td>\n",
       "      <td>8</td>\n",
       "    </tr>\n",
       "    <tr>\n",
       "      <th>4</th>\n",
       "      <td>CAMEROON</td>\n",
       "      <td>4</td>\n",
       "    </tr>\n",
       "  </tbody>\n",
       "</table>\n",
       "</div>"
      ],
      "text/plain": [
       "        Team  Goals Scored\n",
       "0  ARGENTINA            15\n",
       "1  AUSTRALIA             4\n",
       "2    BELGIUM             1\n",
       "3     BRAZIL             8\n",
       "4   CAMEROON             4"
      ]
     },
     "execution_count": 12,
     "metadata": {},
     "output_type": "execute_result"
    }
   ],
   "source": [
    "# Check to see table creation worked\n",
    "team_goals.head()"
   ]
  },
  {
   "cell_type": "code",
   "execution_count": 13,
   "metadata": {},
   "outputs": [
    {
     "data": {
      "image/png": "[encoded data removed]",
      "text/plain": [
       "<Figure size 720x432 with 1 Axes>"
      ]
     },
     "metadata": {
      "needs_background": "light"
     },
     "output_type": "display_data"
    }
   ],
   "source": [
    "plt.figure(figsize=(10,6))\n",
    "plt.bar(team_goals['Team'], team_goals['Goals Scored'])\n",
    "plt.xlabel('Team')\n",
    "plt.ylabel('Total Goals')\n",
    "plt.title('Total Goals Scored by Each Team')\n",
    "plt.xticks(rotation=90)\n",
    "plt.show()"
   ]
  },
  {
   "attachments": {},
   "cell_type": "markdown",
   "metadata": {},
   "source": [
    "### Games Played"
   ]
  },
  {
   "cell_type": "code",
   "execution_count": 14,
   "metadata": {},
   "outputs": [
    {
     "data": {
      "text/html": [
       "<div>\n",
       "<style scoped>\n",
       "    .dataframe tbody tr th:only-of-type {\n",
       "        vertical-align: middle;\n",
       "    }\n",
       "\n",
       "    .dataframe tbody tr th {\n",
       "        vertical-align: top;\n",
       "    }\n",
       "\n",
       "    .dataframe thead th {\n",
       "        text-align: right;\n",
       "    }\n",
       "</style>\n",
       "<table border=\"1\" class=\"dataframe\">\n",
       "  <thead>\n",
       "    <tr style=\"text-align: right;\">\n",
       "      <th></th>\n",
       "      <th>Team</th>\n",
       "      <th>Games Played</th>\n",
       "    </tr>\n",
       "  </thead>\n",
       "  <tbody>\n",
       "    <tr>\n",
       "      <th>0</th>\n",
       "      <td>CROATIA</td>\n",
       "      <td>7</td>\n",
       "    </tr>\n",
       "    <tr>\n",
       "      <th>1</th>\n",
       "      <td>ARGENTINA</td>\n",
       "      <td>7</td>\n",
       "    </tr>\n",
       "    <tr>\n",
       "      <th>2</th>\n",
       "      <td>MOROCCO</td>\n",
       "      <td>7</td>\n",
       "    </tr>\n",
       "    <tr>\n",
       "      <th>3</th>\n",
       "      <td>FRANCE</td>\n",
       "      <td>7</td>\n",
       "    </tr>\n",
       "    <tr>\n",
       "      <th>4</th>\n",
       "      <td>NETHERLANDS</td>\n",
       "      <td>5</td>\n",
       "    </tr>\n",
       "  </tbody>\n",
       "</table>\n",
       "</div>"
      ],
      "text/plain": [
       "          Team  Games Played\n",
       "0      CROATIA             7\n",
       "1    ARGENTINA             7\n",
       "2      MOROCCO             7\n",
       "3       FRANCE             7\n",
       "4  NETHERLANDS             5"
      ]
     },
     "execution_count": 14,
     "metadata": {},
     "output_type": "execute_result"
    }
   ],
   "source": [
    "#Find the number of games played by each team\n",
    "games_played = pd.concat([df['team1'], df['team2']]).value_counts().reset_index()\n",
    "games_played.columns = ['Team', 'Games Played']\n",
    "\n",
    "games_played.head()"
   ]
  },
  {
   "attachments": {},
   "cell_type": "markdown",
   "metadata": {},
   "source": [
    "### Goals Conceded"
   ]
  },
  {
   "cell_type": "code",
   "execution_count": 15,
   "metadata": {},
   "outputs": [],
   "source": [
    "goals_conceded = df.groupby('team1')['conceded team1'].sum().reset_index()\n",
    "goals_conceded.columns = ['Team', 'Goals Conceded']\n",
    "\n",
    "goals_conceded['Goals Conceded'] += df.groupby('team2')['conceded team2'].sum().reset_index()['conceded team2']"
   ]
  },
  {
   "cell_type": "code",
   "execution_count": 16,
   "metadata": {},
   "outputs": [
    {
     "data": {
      "text/html": [
       "<div>\n",
       "<style scoped>\n",
       "    .dataframe tbody tr th:only-of-type {\n",
       "        vertical-align: middle;\n",
       "    }\n",
       "\n",
       "    .dataframe tbody tr th {\n",
       "        vertical-align: top;\n",
       "    }\n",
       "\n",
       "    .dataframe thead th {\n",
       "        text-align: right;\n",
       "    }\n",
       "</style>\n",
       "<table border=\"1\" class=\"dataframe\">\n",
       "  <thead>\n",
       "    <tr style=\"text-align: right;\">\n",
       "      <th></th>\n",
       "      <th>Team</th>\n",
       "      <th>Goals Conceded</th>\n",
       "    </tr>\n",
       "  </thead>\n",
       "  <tbody>\n",
       "    <tr>\n",
       "      <th>0</th>\n",
       "      <td>ARGENTINA</td>\n",
       "      <td>8</td>\n",
       "    </tr>\n",
       "    <tr>\n",
       "      <th>1</th>\n",
       "      <td>AUSTRALIA</td>\n",
       "      <td>6</td>\n",
       "    </tr>\n",
       "    <tr>\n",
       "      <th>2</th>\n",
       "      <td>BELGIUM</td>\n",
       "      <td>2</td>\n",
       "    </tr>\n",
       "    <tr>\n",
       "      <th>3</th>\n",
       "      <td>BRAZIL</td>\n",
       "      <td>3</td>\n",
       "    </tr>\n",
       "    <tr>\n",
       "      <th>4</th>\n",
       "      <td>CAMEROON</td>\n",
       "      <td>4</td>\n",
       "    </tr>\n",
       "  </tbody>\n",
       "</table>\n",
       "</div>"
      ],
      "text/plain": [
       "        Team  Goals Conceded\n",
       "0  ARGENTINA               8\n",
       "1  AUSTRALIA               6\n",
       "2    BELGIUM               2\n",
       "3     BRAZIL               3\n",
       "4   CAMEROON               4"
      ]
     },
     "execution_count": 16,
     "metadata": {},
     "output_type": "execute_result"
    }
   ],
   "source": [
    "goals_conceded.head()"
   ]
  },
  {
   "cell_type": "code",
   "execution_count": 17,
   "metadata": {},
   "outputs": [
    {
     "data": {
      "image/png": "[encoded data removed]",
      "text/plain": [
       "<Figure size 720x432 with 1 Axes>"
      ]
     },
     "metadata": {
      "needs_background": "light"
     },
     "output_type": "display_data"
    }
   ],
   "source": [
    "plt.figure(figsize=(10,6))\n",
    "plt.bar(goals_conceded['Team'], goals_conceded['Goals Conceded'])\n",
    "plt.xlabel('Team')\n",
    "plt.ylabel('Total Goals')\n",
    "plt.title('Total Goals Conceded by Each Team')\n",
    "plt.xticks(rotation=90)\n",
    "plt.show()"
   ]
  },
  {
   "cell_type": "code",
   "execution_count": 18,
   "metadata": {},
   "outputs": [
    {
     "data": {
      "text/html": [
       "<div>\n",
       "<style scoped>\n",
       "    .dataframe tbody tr th:only-of-type {\n",
       "        vertical-align: middle;\n",
       "    }\n",
       "\n",
       "    .dataframe tbody tr th {\n",
       "        vertical-align: top;\n",
       "    }\n",
       "\n",
       "    .dataframe thead th {\n",
       "        text-align: right;\n",
       "    }\n",
       "</style>\n",
       "<table border=\"1\" class=\"dataframe\">\n",
       "  <thead>\n",
       "    <tr style=\"text-align: right;\">\n",
       "      <th></th>\n",
       "      <th>Team</th>\n",
       "      <th>Games Played</th>\n",
       "      <th>Goals Scored</th>\n",
       "      <th>Goals Conceded</th>\n",
       "    </tr>\n",
       "  </thead>\n",
       "  <tbody>\n",
       "    <tr>\n",
       "      <th>0</th>\n",
       "      <td>CROATIA</td>\n",
       "      <td>7</td>\n",
       "      <td>8</td>\n",
       "      <td>7</td>\n",
       "    </tr>\n",
       "    <tr>\n",
       "      <th>1</th>\n",
       "      <td>ARGENTINA</td>\n",
       "      <td>7</td>\n",
       "      <td>15</td>\n",
       "      <td>8</td>\n",
       "    </tr>\n",
       "    <tr>\n",
       "      <th>2</th>\n",
       "      <td>MOROCCO</td>\n",
       "      <td>7</td>\n",
       "      <td>6</td>\n",
       "      <td>5</td>\n",
       "    </tr>\n",
       "    <tr>\n",
       "      <th>3</th>\n",
       "      <td>FRANCE</td>\n",
       "      <td>7</td>\n",
       "      <td>16</td>\n",
       "      <td>8</td>\n",
       "    </tr>\n",
       "    <tr>\n",
       "      <th>4</th>\n",
       "      <td>NETHERLANDS</td>\n",
       "      <td>5</td>\n",
       "      <td>10</td>\n",
       "      <td>4</td>\n",
       "    </tr>\n",
       "  </tbody>\n",
       "</table>\n",
       "</div>"
      ],
      "text/plain": [
       "          Team  Games Played  Goals Scored  Goals Conceded\n",
       "0      CROATIA             7             8               7\n",
       "1    ARGENTINA             7            15               8\n",
       "2      MOROCCO             7             6               5\n",
       "3       FRANCE             7            16               8\n",
       "4  NETHERLANDS             5            10               4"
      ]
     },
     "execution_count": 18,
     "metadata": {},
     "output_type": "execute_result"
    }
   ],
   "source": [
    "played_scored = pd.merge(games_played, team_goals, on=\"Team\", how='left')\n",
    "played_scored_conceded = pd.merge(played_scored, goals_conceded, on='Team', how='left')\n",
    "\n",
    "played_scored_conceded.head()"
   ]
  },
  {
   "cell_type": "code",
   "execution_count": 19,
   "metadata": {},
   "outputs": [],
   "source": [
    "# Export to csv for visualisation in Tableau \n",
    "played_scored_conceded.to_csv('played_scored_conceded.csv', index=False)"
   ]
  },
  {
   "attachments": {},
   "cell_type": "markdown",
   "metadata": {},
   "source": [
    "### Possession"
   ]
  },
  {
   "cell_type": "code",
   "execution_count": 122,
   "metadata": {},
   "outputs": [
    {
     "data": {
      "text/html": [
       "<div>\n",
       "<style scoped>\n",
       "    .dataframe tbody tr th:only-of-type {\n",
       "        vertical-align: middle;\n",
       "    }\n",
       "\n",
       "    .dataframe tbody tr th {\n",
       "        vertical-align: top;\n",
       "    }\n",
       "\n",
       "    .dataframe thead th {\n",
       "        text-align: right;\n",
       "    }\n",
       "</style>\n",
       "<table border=\"1\" class=\"dataframe\">\n",
       "  <thead>\n",
       "    <tr style=\"text-align: right;\">\n",
       "      <th></th>\n",
       "      <th>Team</th>\n",
       "      <th>Average Possession</th>\n",
       "    </tr>\n",
       "  </thead>\n",
       "  <tbody>\n",
       "    <tr>\n",
       "      <th>0</th>\n",
       "      <td>QATAR</td>\n",
       "      <td>40.000000</td>\n",
       "    </tr>\n",
       "    <tr>\n",
       "      <th>1</th>\n",
       "      <td>ENGLAND</td>\n",
       "      <td>57.875000</td>\n",
       "    </tr>\n",
       "    <tr>\n",
       "      <th>2</th>\n",
       "      <td>SENEGAL</td>\n",
       "      <td>41.166667</td>\n",
       "    </tr>\n",
       "    <tr>\n",
       "      <th>3</th>\n",
       "      <td>UNITED STATES</td>\n",
       "      <td>48.666667</td>\n",
       "    </tr>\n",
       "    <tr>\n",
       "      <th>4</th>\n",
       "      <td>ARGENTINA</td>\n",
       "      <td>52.450000</td>\n",
       "    </tr>\n",
       "  </tbody>\n",
       "</table>\n",
       "</div>"
      ],
      "text/plain": [
       "            Team  Average Possession\n",
       "0          QATAR           40.000000\n",
       "1        ENGLAND           57.875000\n",
       "2        SENEGAL           41.166667\n",
       "3  UNITED STATES           48.666667\n",
       "4      ARGENTINA           52.450000"
      ]
     },
     "execution_count": 122,
     "metadata": {},
     "output_type": "execute_result"
    }
   ],
   "source": [
    "# Concatenate 'team1' and 'team2' columns\n",
    "teams = df['team1'].unique().tolist() + df['team2'].unique().tolist()\n",
    "\n",
    "# Calculate the average possession for each team\n",
    "average_possession = []\n",
    "for team in teams:\n",
    "    team1_avg = df[df['team1'] == team]['possession team1'].mean()\n",
    "    team2_avg = df[df['team2'] == team]['possession team2'].mean()\n",
    "    avg = (team1_avg + team2_avg) / 2\n",
    "    average_possession.append(avg)\n",
    "\n",
    "# Create a new dataframe with team and average possession columns\n",
    "average_possession_df = pd.DataFrame({\n",
    "    'Team': teams,\n",
    "    'Average Possession': average_possession\n",
    "})\n",
    "\n",
    "# Display the table of average possession for each team\n",
    "average_possession_df.head()\n"
   ]
  },
  {
   "cell_type": "code",
   "execution_count": 123,
   "metadata": {},
   "outputs": [
    {
     "data": {
      "image/png": "[encoded data removed]",
      "text/plain": [
       "<Figure size 720x432 with 1 Axes>"
      ]
     },
     "metadata": {
      "needs_background": "light"
     },
     "output_type": "display_data"
    }
   ],
   "source": [
    "plt.figure(figsize=(10,6))\n",
    "plt.bar(average_possession_df['Team'], average_possession_df['Average Possession'])\n",
    "plt.xlabel('Team')\n",
    "plt.ylabel('Average Possession')\n",
    "plt.title('Average Possession for Each Team')\n",
    "plt.xticks(rotation=90)\n",
    "plt.show()"
   ]
  },
  {
   "attachments": {},
   "cell_type": "markdown",
   "metadata": {},
   "source": [
    "### ATTEMPTS"
   ]
  },
  {
   "cell_type": "code",
   "execution_count": 31,
   "metadata": {},
   "outputs": [
    {
     "data": {
      "text/html": [
       "<div>\n",
       "<style scoped>\n",
       "    .dataframe tbody tr th:only-of-type {\n",
       "        vertical-align: middle;\n",
       "    }\n",
       "\n",
       "    .dataframe tbody tr th {\n",
       "        vertical-align: top;\n",
       "    }\n",
       "\n",
       "    .dataframe thead th {\n",
       "        text-align: right;\n",
       "    }\n",
       "</style>\n",
       "<table border=\"1\" class=\"dataframe\">\n",
       "  <thead>\n",
       "    <tr style=\"text-align: right;\">\n",
       "      <th></th>\n",
       "      <th>Team</th>\n",
       "      <th>Attempts on Target</th>\n",
       "      <th>Total Attempts</th>\n",
       "    </tr>\n",
       "  </thead>\n",
       "  <tbody>\n",
       "    <tr>\n",
       "      <th>0</th>\n",
       "      <td>ARGENTINA</td>\n",
       "      <td>48</td>\n",
       "      <td>104</td>\n",
       "    </tr>\n",
       "    <tr>\n",
       "      <th>1</th>\n",
       "      <td>AUSTRALIA</td>\n",
       "      <td>9</td>\n",
       "      <td>25</td>\n",
       "    </tr>\n",
       "    <tr>\n",
       "      <th>2</th>\n",
       "      <td>BELGIUM</td>\n",
       "      <td>11</td>\n",
       "      <td>34</td>\n",
       "    </tr>\n",
       "    <tr>\n",
       "      <th>3</th>\n",
       "      <td>BRAZIL</td>\n",
       "      <td>41</td>\n",
       "      <td>90</td>\n",
       "    </tr>\n",
       "    <tr>\n",
       "      <th>4</th>\n",
       "      <td>CAMEROON</td>\n",
       "      <td>14</td>\n",
       "      <td>27</td>\n",
       "    </tr>\n",
       "    <tr>\n",
       "      <th>5</th>\n",
       "      <td>CANADA</td>\n",
       "      <td>6</td>\n",
       "      <td>35</td>\n",
       "    </tr>\n",
       "    <tr>\n",
       "      <th>6</th>\n",
       "      <td>COSTA RICA</td>\n",
       "      <td>7</td>\n",
       "      <td>12</td>\n",
       "    </tr>\n",
       "    <tr>\n",
       "      <th>7</th>\n",
       "      <td>CROATIA</td>\n",
       "      <td>28</td>\n",
       "      <td>81</td>\n",
       "    </tr>\n",
       "    <tr>\n",
       "      <th>8</th>\n",
       "      <td>DENMARK</td>\n",
       "      <td>9</td>\n",
       "      <td>35</td>\n",
       "    </tr>\n",
       "    <tr>\n",
       "      <th>9</th>\n",
       "      <td>ECUADOR</td>\n",
       "      <td>12</td>\n",
       "      <td>27</td>\n",
       "    </tr>\n",
       "  </tbody>\n",
       "</table>\n",
       "</div>"
      ],
      "text/plain": [
       "         Team  Attempts on Target  Total Attempts\n",
       "0   ARGENTINA                  48             104\n",
       "1   AUSTRALIA                   9              25\n",
       "2     BELGIUM                  11              34\n",
       "3      BRAZIL                  41              90\n",
       "4    CAMEROON                  14              27\n",
       "5      CANADA                   6              35\n",
       "6  COSTA RICA                   7              12\n",
       "7     CROATIA                  28              81\n",
       "8     DENMARK                   9              35\n",
       "9     ECUADOR                  12              27"
      ]
     },
     "execution_count": 31,
     "metadata": {},
     "output_type": "execute_result"
    }
   ],
   "source": [
    "\n",
    "attempts_on_target = df.groupby('team1')['on target attempts team1'].sum().reset_index()\n",
    "attempts_on_target.columns = ['Team', 'Attempts on Target']\n",
    "\n",
    "attempts_on_target['Attempts on Target'] += df.groupby('team2')['on target attempts team2'].sum().reset_index()['on target attempts team2']\n",
    "\n",
    "\n",
    "total_attempts = df.groupby('team1')['total attempts team1'].sum().reset_index()\n",
    "total_attempts.columns = ['Team', 'Total Attempts']\n",
    "\n",
    "total_attempts['Total Attempts'] += df.groupby('team2')['total attempts team2'].sum().reset_index()['total attempts team2']\n",
    "\n",
    "\n",
    "\n",
    "attempts_df = pd.merge(attempts_on_target, total_attempts, on='Team', how='left')\n",
    "\n",
    "\n",
    "attempts_df.head(10)"
   ]
  },
  {
   "attachments": {},
   "cell_type": "markdown",
   "metadata": {},
   "source": [
    "### CARDS"
   ]
  },
  {
   "cell_type": "code",
   "execution_count": 23,
   "metadata": {},
   "outputs": [],
   "source": [
    "yellow_cards = df.groupby('team1')['yellow cards team1'].sum().reset_index()\n",
    "yellow_cards.columns = ['Team', 'Yellow Cards']\n",
    "\n",
    "yellow_cards['Yellow Cards'] += df.groupby('team2')['yellow cards team2'].sum().reset_index()['yellow cards team2']"
   ]
  },
  {
   "cell_type": "code",
   "execution_count": 24,
   "metadata": {},
   "outputs": [
    {
     "data": {
      "text/html": [
       "<div>\n",
       "<style scoped>\n",
       "    .dataframe tbody tr th:only-of-type {\n",
       "        vertical-align: middle;\n",
       "    }\n",
       "\n",
       "    .dataframe tbody tr th {\n",
       "        vertical-align: top;\n",
       "    }\n",
       "\n",
       "    .dataframe thead th {\n",
       "        text-align: right;\n",
       "    }\n",
       "</style>\n",
       "<table border=\"1\" class=\"dataframe\">\n",
       "  <thead>\n",
       "    <tr style=\"text-align: right;\">\n",
       "      <th></th>\n",
       "      <th>Team</th>\n",
       "      <th>Yellow Cards</th>\n",
       "    </tr>\n",
       "  </thead>\n",
       "  <tbody>\n",
       "    <tr>\n",
       "      <th>0</th>\n",
       "      <td>ARGENTINA</td>\n",
       "      <td>16</td>\n",
       "    </tr>\n",
       "    <tr>\n",
       "      <th>1</th>\n",
       "      <td>AUSTRALIA</td>\n",
       "      <td>7</td>\n",
       "    </tr>\n",
       "    <tr>\n",
       "      <th>2</th>\n",
       "      <td>BELGIUM</td>\n",
       "      <td>5</td>\n",
       "    </tr>\n",
       "    <tr>\n",
       "      <th>3</th>\n",
       "      <td>BRAZIL</td>\n",
       "      <td>6</td>\n",
       "    </tr>\n",
       "    <tr>\n",
       "      <th>4</th>\n",
       "      <td>CAMEROON</td>\n",
       "      <td>8</td>\n",
       "    </tr>\n",
       "  </tbody>\n",
       "</table>\n",
       "</div>"
      ],
      "text/plain": [
       "        Team  Yellow Cards\n",
       "0  ARGENTINA            16\n",
       "1  AUSTRALIA             7\n",
       "2    BELGIUM             5\n",
       "3     BRAZIL             6\n",
       "4   CAMEROON             8"
      ]
     },
     "execution_count": 24,
     "metadata": {},
     "output_type": "execute_result"
    }
   ],
   "source": [
    "yellow_cards.head()"
   ]
  },
  {
   "cell_type": "code",
   "execution_count": 25,
   "metadata": {},
   "outputs": [],
   "source": [
    "red_cards = df.groupby('team1')['red cards team1'].sum().reset_index()\n",
    "red_cards.columns = ['Team', 'Red Cards']\n",
    "\n",
    "red_cards['Red Cards'] += df.groupby('team2')['red cards team2'].sum().reset_index()['red cards team2']"
   ]
  },
  {
   "cell_type": "code",
   "execution_count": 26,
   "metadata": {},
   "outputs": [
    {
     "data": {
      "text/html": [
       "<div>\n",
       "<style scoped>\n",
       "    .dataframe tbody tr th:only-of-type {\n",
       "        vertical-align: middle;\n",
       "    }\n",
       "\n",
       "    .dataframe tbody tr th {\n",
       "        vertical-align: top;\n",
       "    }\n",
       "\n",
       "    .dataframe thead th {\n",
       "        text-align: right;\n",
       "    }\n",
       "</style>\n",
       "<table border=\"1\" class=\"dataframe\">\n",
       "  <thead>\n",
       "    <tr style=\"text-align: right;\">\n",
       "      <th></th>\n",
       "      <th>Team</th>\n",
       "      <th>Red Cards</th>\n",
       "    </tr>\n",
       "  </thead>\n",
       "  <tbody>\n",
       "    <tr>\n",
       "      <th>0</th>\n",
       "      <td>ARGENTINA</td>\n",
       "      <td>0</td>\n",
       "    </tr>\n",
       "    <tr>\n",
       "      <th>1</th>\n",
       "      <td>AUSTRALIA</td>\n",
       "      <td>0</td>\n",
       "    </tr>\n",
       "    <tr>\n",
       "      <th>2</th>\n",
       "      <td>BELGIUM</td>\n",
       "      <td>0</td>\n",
       "    </tr>\n",
       "    <tr>\n",
       "      <th>3</th>\n",
       "      <td>BRAZIL</td>\n",
       "      <td>0</td>\n",
       "    </tr>\n",
       "    <tr>\n",
       "      <th>4</th>\n",
       "      <td>CAMEROON</td>\n",
       "      <td>1</td>\n",
       "    </tr>\n",
       "  </tbody>\n",
       "</table>\n",
       "</div>"
      ],
      "text/plain": [
       "        Team  Red Cards\n",
       "0  ARGENTINA          0\n",
       "1  AUSTRALIA          0\n",
       "2    BELGIUM          0\n",
       "3     BRAZIL          0\n",
       "4   CAMEROON          1"
      ]
     },
     "execution_count": 26,
     "metadata": {},
     "output_type": "execute_result"
    }
   ],
   "source": [
    "red_cards.head()"
   ]
  },
  {
   "cell_type": "code",
   "execution_count": 27,
   "metadata": {},
   "outputs": [
    {
     "data": {
      "text/html": [
       "<div>\n",
       "<style scoped>\n",
       "    .dataframe tbody tr th:only-of-type {\n",
       "        vertical-align: middle;\n",
       "    }\n",
       "\n",
       "    .dataframe tbody tr th {\n",
       "        vertical-align: top;\n",
       "    }\n",
       "\n",
       "    .dataframe thead th {\n",
       "        text-align: right;\n",
       "    }\n",
       "</style>\n",
       "<table border=\"1\" class=\"dataframe\">\n",
       "  <thead>\n",
       "    <tr style=\"text-align: right;\">\n",
       "      <th></th>\n",
       "      <th>Team</th>\n",
       "      <th>Yellow Cards</th>\n",
       "      <th>Red Cards</th>\n",
       "    </tr>\n",
       "  </thead>\n",
       "  <tbody>\n",
       "    <tr>\n",
       "      <th>0</th>\n",
       "      <td>ARGENTINA</td>\n",
       "      <td>16</td>\n",
       "      <td>0</td>\n",
       "    </tr>\n",
       "    <tr>\n",
       "      <th>1</th>\n",
       "      <td>AUSTRALIA</td>\n",
       "      <td>7</td>\n",
       "      <td>0</td>\n",
       "    </tr>\n",
       "    <tr>\n",
       "      <th>2</th>\n",
       "      <td>BELGIUM</td>\n",
       "      <td>5</td>\n",
       "      <td>0</td>\n",
       "    </tr>\n",
       "    <tr>\n",
       "      <th>3</th>\n",
       "      <td>BRAZIL</td>\n",
       "      <td>6</td>\n",
       "      <td>0</td>\n",
       "    </tr>\n",
       "    <tr>\n",
       "      <th>4</th>\n",
       "      <td>CAMEROON</td>\n",
       "      <td>8</td>\n",
       "      <td>1</td>\n",
       "    </tr>\n",
       "  </tbody>\n",
       "</table>\n",
       "</div>"
      ],
      "text/plain": [
       "        Team  Yellow Cards  Red Cards\n",
       "0  ARGENTINA            16          0\n",
       "1  AUSTRALIA             7          0\n",
       "2    BELGIUM             5          0\n",
       "3     BRAZIL             6          0\n",
       "4   CAMEROON             8          1"
      ]
     },
     "execution_count": 27,
     "metadata": {},
     "output_type": "execute_result"
    }
   ],
   "source": [
    "total_cards = pd.merge(yellow_cards, red_cards, on='Team', how='left')\n",
    "total_cards.head()"
   ]
  },
  {
   "cell_type": "code",
   "execution_count": 28,
   "metadata": {},
   "outputs": [],
   "source": [
    "total_cards.to_csv('total_cards.csv', index='False')"
   ]
  },
  {
   "attachments": {},
   "cell_type": "markdown",
   "metadata": {},
   "source": [
    "### Group and Furthest Stage"
   ]
  },
  {
   "cell_type": "code",
   "execution_count": 46,
   "metadata": {},
   "outputs": [
    {
     "name": "stdout",
     "output_type": "stream",
     "text": [
      "              Team    Group            Furthest Stage\n",
      "0            QATAR  Group A              Group Stages\n",
      "1          ECUADOR  Group A              Group Stages\n",
      "2          ENGLAND  Group B             Quarter-final\n",
      "3             IRAN  Group B              Group Stages\n",
      "4          SENEGAL  Group A               Round of 16\n",
      "5      NETHERLANDS  Group A             Quarter-final\n",
      "6    UNITED STATES  Group B               Round of 16\n",
      "7            WALES  Group B              Group Stages\n",
      "8        ARGENTINA  Group C                     Final\n",
      "9     SAUDI ARABIA  Group C              Group Stages\n",
      "10         DENMARK  Group D              Group Stages\n",
      "11         TUNISIA  Group D              Group Stages\n",
      "12          MEXICO  Group C              Group Stages\n",
      "13          POLAND  Group C               Round of 16\n",
      "14          FRANCE  Group D                     Final\n",
      "15       AUSTRALIA  Group D               Round of 16\n",
      "16         MOROCCO  Group F  Play-off for third place\n",
      "17         CROATIA  Group F  Play-off for third place\n",
      "18         GERMANY  Group E              Group Stages\n",
      "19           JAPAN  Group E               Round of 16\n",
      "20           SPAIN  Group E               Round of 16\n",
      "21      COSTA RICA  Group E              Group Stages\n",
      "22         BELGIUM  Group F              Group Stages\n",
      "23          CANADA  Group F              Group Stages\n",
      "24     SWITZERLAND  Group G               Round of 16\n",
      "25        CAMEROON  Group G              Group Stages\n",
      "26         URUGUAY  Group H              Group Stages\n",
      "27  KOREA REPUBLIC  Group H               Round of 16\n",
      "28        PORTUGAL  Group H             Quarter-final\n",
      "29           GHANA  Group H              Group Stages\n",
      "30          BRAZIL  Group G             Quarter-final\n",
      "31          SERBIA  Group G              Group Stages\n"
     ]
    }
   ],
   "source": [
    "# Create a dictionary to store the furthest stage for each team\n",
    "furthest_stage = {}\n",
    "\n",
    "# Define the order of stages\n",
    "stage_order = ['Group A', 'Group B', 'Group C', 'Group D', 'Group E', 'Group F', 'Group G', 'Group H',\n",
    "               'Round of 16', 'Quarter-final', 'Semi-final', 'Play-off for third place', 'Final']\n",
    "\n",
    "# Iterate over each row in the data\n",
    "for _, row in df.iterrows():\n",
    "    # Get the team names and category for the current row\n",
    "    team1 = row['team1']\n",
    "    team2 = row['team2']\n",
    "    category = row['category']\n",
    "\n",
    "    # Determine the progression for the teams in the current row\n",
    "    if category != 'Final':\n",
    "        progression = category\n",
    "    else:\n",
    "        progression = stage_order[-1]  # If it is the final, set the progression as 'Final'\n",
    "    \n",
    "    # Update furthest stage for team1\n",
    "    if team1 not in furthest_stage or stage_order.index(progression) > stage_order.index(furthest_stage[team1]):\n",
    "        furthest_stage[team1] = progression\n",
    "    \n",
    "    # Update furthest stage for team2\n",
    "    if team2 not in furthest_stage or stage_order.index(progression) > stage_order.index(furthest_stage[team2]):\n",
    "        furthest_stage[team2] = progression\n",
    "\n",
    "# Create a new DataFrame to store the results\n",
    "groups_furthest_stages = pd.DataFrame(columns=['Team', 'Group', 'Furthest Stage'])\n",
    "\n",
    "# Populate the groups_furthest_stages DataFrame with the team, category, and furthest stage information\n",
    "for team, stage in furthest_stage.items():\n",
    "    team_data = df[(df['team1'] == team) | (df['team2'] == team)]\n",
    "    category = team_data['category'].iloc[0]  \n",
    "\n",
    "    # Rename furthest stage to 'Group Stages'\n",
    "    if stage.startswith('Group'):\n",
    "        stage = 'Group Stages'  \n",
    "    groups_furthest_stages = groups_furthest_stages.append({'Team': team, 'Group': category, 'Furthest Stage': stage}, ignore_index=True)\n",
    "\n",
    "\n",
    "print(groups_furthest_stages)"
   ]
  },
  {
   "cell_type": "code",
   "execution_count": 48,
   "metadata": {},
   "outputs": [],
   "source": [
    "groups_furthest_stages.to_csv('groups_furthest_stages.csv', index=False)"
   ]
  },
  {
   "attachments": {},
   "cell_type": "markdown",
   "metadata": {},
   "source": [
    "### Game Results"
   ]
  },
  {
   "cell_type": "code",
   "execution_count": 95,
   "metadata": {},
   "outputs": [
    {
     "name": "stdout",
     "output_type": "stream",
     "text": [
      "            team   opponent final_score                  category\n",
      "0        ECUADOR      QATAR         2-0                   Group A\n",
      "1          QATAR    ECUADOR         0-2                   Group A\n",
      "2        ENGLAND       IRAN         6-2                   Group B\n",
      "3           IRAN    ENGLAND         2-6                   Group B\n",
      "4    NETHERLANDS    SENEGAL         2-0                   Group A\n",
      "..           ...        ...         ...                       ...\n",
      "123      MOROCCO     FRANCE         0-2                Semi-final\n",
      "124      CROATIA    MOROCCO         2-1  Play-off for third place\n",
      "125      MOROCCO    CROATIA         1-2  Play-off for third place\n",
      "126    ARGENTINA     FRANCE         3-3                     Final\n",
      "127       FRANCE  ARGENTINA         3-3                     Final\n",
      "\n",
      "[128 rows x 4 columns]\n"
     ]
    }
   ],
   "source": [
    "# Create a list to store the final scores\n",
    "final_scores = []\n",
    "\n",
    "# Iterate over each row in the data\n",
    "for _, row in df.iterrows():\n",
    "    team1 = row['team1']\n",
    "    team2 = row['team2']\n",
    "    goals_team1 = row['number of goals team1']\n",
    "    goals_team2 = row['number of goals team2']\n",
    "    category = row['category']\n",
    "\n",
    "    # Determine the final score based on the goals\n",
    "    if pd.isnull(goals_team1) or pd.isnull(goals_team2):\n",
    "        final_score = 'N/A'\n",
    "    elif goals_team1 > goals_team2:\n",
    "        final_score = str(goals_team1) + '-' + str(goals_team2)\n",
    "        winning_team = team1\n",
    "        losing_team = team2\n",
    "    elif goals_team2 > goals_team1:\n",
    "        final_score = str(goals_team2) + '-' + str(goals_team1)\n",
    "        winning_team = team2\n",
    "        losing_team = team1\n",
    "    else:\n",
    "        final_score = str(goals_team1) + '-' + str(goals_team2)\n",
    "        # If it's a draw, include both teams as opponents\n",
    "        final_scores.append({'team': team1, 'opponent': team2, 'final_score': final_score, 'category': category})\n",
    "        final_scores.append({'team': team2, 'opponent': team1, 'final_score': final_score, 'category': category})\n",
    "        continue\n",
    "\n",
    "    # Append the game details to the final_scores list\n",
    "    final_scores.append({'team': winning_team, 'opponent': losing_team, 'final_score': final_score, 'category': category})\n",
    "    final_scores.append({'team': losing_team, 'opponent': winning_team, 'final_score': final_score[::-1], 'category': category})\n",
    "\n",
    "# Create a DataFrame from the list of final scores\n",
    "final_scores_df = pd.DataFrame(final_scores)\n",
    "\n",
    "# Print the final scores DataFrame\n",
    "print(final_scores_df)\n"
   ]
  },
  {
   "cell_type": "code",
   "execution_count": 96,
   "metadata": {},
   "outputs": [],
   "source": [
    "final_scores_df.to_csv('final_scores.csv', index=False)"
   ]
  },
  {
   "attachments": {},
   "cell_type": "markdown",
   "metadata": {},
   "source": [
    "### LOCATION"
   ]
  },
  {
   "cell_type": "code",
   "execution_count": 108,
   "metadata": {},
   "outputs": [
    {
     "name": "stdout",
     "output_type": "stream",
     "text": [
      "              team   latitude   longitude\n",
      "0            QATAR  25.333698   51.229529\n",
      "1          ENGLAND  52.531021   -1.264906\n",
      "2          SENEGAL  14.475061  -14.452961\n",
      "3    UNITED STATES  39.783730 -100.445882\n",
      "4        ARGENTINA -34.996496  -64.967282\n",
      "5          DENMARK  55.670249   10.333328\n",
      "6           MEXICO  23.658512 -102.007710\n",
      "7           FRANCE  46.603354    1.888334\n",
      "8          MOROCCO  31.172821   -7.336248\n",
      "9          GERMANY  51.163818   10.447831\n",
      "10           SPAIN  39.326068   -4.837979\n",
      "11         BELGIUM  50.640281    4.666715\n",
      "12     SWITZERLAND  46.798562    8.231974\n",
      "13         URUGUAY -32.875555  -56.020153\n",
      "14        PORTUGAL  39.662165   -8.135352\n",
      "15          BRAZIL -10.333333  -53.200000\n",
      "16           WALES  52.292812   -3.738930\n",
      "17     NETHERLANDS  52.243498    5.634323\n",
      "18         TUNISIA  33.843941    9.400138\n",
      "19          POLAND  52.215933   19.134422\n",
      "20           JAPAN  36.574844  139.239418\n",
      "21         CROATIA  45.365844   15.657521\n",
      "22        CAMEROON   4.612552   13.153581\n",
      "23  KOREA REPUBLIC  55.821554   49.132971\n",
      "24         ECUADOR  -1.339767  -79.366697\n",
      "25            IRAN  32.647531   54.564352\n",
      "26       AUSTRALIA -24.776109  134.755000\n",
      "27    SAUDI ARABIA  25.624262   42.352833\n",
      "28          CANADA  61.066692 -107.991707\n",
      "29      COSTA RICA  10.273563  -84.073910\n",
      "30           GHANA   8.030028   -1.080027\n",
      "31          SERBIA  44.153412   20.551440\n"
     ]
    }
   ],
   "source": [
    "# Create a new DataFrame for the location table\n",
    "location_df = pd.DataFrame({'team1': df['team1'].unique()})\n",
    "\n",
    "\n",
    "# Create a geocoder instance\n",
    "geolocator = Nominatim(user_agent=\"my_geocoder\")\n",
    "\n",
    "# Create a list to store the location data\n",
    "location_data = []\n",
    "\n",
    "# Function to get the location for each country\n",
    "def get_location(country):\n",
    "    location = geolocator.geocode(country)\n",
    "    if location:\n",
    "        return location.latitude, location.longitude\n",
    "    else:\n",
    "        return None\n",
    "\n",
    "# Get unique team names\n",
    "unique_teams = df['team1'].unique()\n",
    "\n",
    "# Retrieve location data for each team\n",
    "for team in unique_teams:\n",
    "    location = get_location(team)\n",
    "    if location is not None:\n",
    "        latitude, longitude = location\n",
    "        location_data.append({'team': team, 'latitude': latitude, 'longitude': longitude})\n",
    "\n",
    "# Create a DataFrame from the location data\n",
    "location_df = pd.DataFrame(location_data)\n",
    "\n",
    "# Print the resulting DataFrame\n",
    "print(location_df)"
   ]
  },
  {
   "cell_type": "code",
   "execution_count": 109,
   "metadata": {},
   "outputs": [],
   "source": [
    "location_df.to_csv('locations.csv', index=False)"
   ]
  }
 ],
 "metadata": {
  "kernelspec": {
   "display_name": "Python 3.8.8 ('base')",
   "language": "python",
   "name": "python3"
  },
  "language_info": {
   "codemirror_mode": {
    "name": "ipython",
    "version": 3
   },
   "file_extension": ".py",
   "mimetype": "text/x-python",
   "name": "python",
   "nbconvert_exporter": "python",
   "pygments_lexer": "ipython3",
   "version": "3.8.8"
  },
  "orig_nbformat": 4,
  "vscode": {
   "interpreter": {
    "hash": "44bd7140a60fa536d8e38a659687cb8d368afa2b7bc63557996eb91209ae506e"
   }
  }
 },
 "nbformat": 4,
 "nbformat_minor": 2
}
