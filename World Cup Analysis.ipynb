{
 "cells": [
  {
   "cell_type": "markdown",
   "metadata": {},
   "source": [
    "QATAR WORLD CUP 2022 ANALYSIS"
   ]
  },
  {
   "cell_type": "markdown",
   "metadata": {},
   "source": [
    "Intro\n",
    "\n",
    "On my exchange semester in the UK I was lucky enough to be able to watch most of the world cup games either at home or on a night out, being in such a good time zone. \n",
    "\n",
    "\n",
    "Being a big football fan myself I wanted analyse the results of the World Cup from a data perspective"
   ]
  },
  {
   "cell_type": "markdown",
   "metadata": {},
   "source": [
    "Part 1 - Loading the data\n",
    "\n",
    "For starters, let's load the libraries"
   ]
  },
  {
   "cell_type": "code",
   "execution_count": 6,
   "metadata": {},
   "outputs": [
    {
     "name": "stderr",
     "output_type": "stream",
     "text": [
      "Matplotlib is building the font cache; this may take a moment.\n"
     ]
    }
   ],
   "source": [
    "import pandas as pd\n",
    "import numpy as np\n",
    "import random\n",
    "\n",
    "import matplotlib.pyplot as plt"
   ]
  },
  {
   "cell_type": "code",
   "execution_count": 4,
   "metadata": {},
   "outputs": [
    {
     "data": {
      "text/html": [
       "<div>\n",
       "<style scoped>\n",
       "    .dataframe tbody tr th:only-of-type {\n",
       "        vertical-align: middle;\n",
       "    }\n",
       "\n",
       "    .dataframe tbody tr th {\n",
       "        vertical-align: top;\n",
       "    }\n",
       "\n",
       "    .dataframe thead th {\n",
       "        text-align: right;\n",
       "    }\n",
       "</style>\n",
       "<table border=\"1\" class=\"dataframe\">\n",
       "  <thead>\n",
       "    <tr style=\"text-align: right;\">\n",
       "      <th></th>\n",
       "      <th>team1</th>\n",
       "      <th>team2</th>\n",
       "      <th>possession team1</th>\n",
       "      <th>possession team2</th>\n",
       "      <th>possession in contest</th>\n",
       "      <th>number of goals team1</th>\n",
       "      <th>number of goals team2</th>\n",
       "      <th>date</th>\n",
       "      <th>hour</th>\n",
       "      <th>category</th>\n",
       "      <th>...</th>\n",
       "      <th>penalties scored team1</th>\n",
       "      <th>penalties scored team2</th>\n",
       "      <th>goal preventions team1</th>\n",
       "      <th>goal preventions team2</th>\n",
       "      <th>own goals team1</th>\n",
       "      <th>own goals team2</th>\n",
       "      <th>forced turnovers team1</th>\n",
       "      <th>forced turnovers team2</th>\n",
       "      <th>defensive pressures applied team1</th>\n",
       "      <th>defensive pressures applied team2</th>\n",
       "    </tr>\n",
       "  </thead>\n",
       "  <tbody>\n",
       "    <tr>\n",
       "      <th>0</th>\n",
       "      <td>QATAR</td>\n",
       "      <td>ECUADOR</td>\n",
       "      <td>42%</td>\n",
       "      <td>50%</td>\n",
       "      <td>8%</td>\n",
       "      <td>0</td>\n",
       "      <td>2</td>\n",
       "      <td>20 NOV 2022</td>\n",
       "      <td>17 : 00</td>\n",
       "      <td>Group A</td>\n",
       "      <td>...</td>\n",
       "      <td>0</td>\n",
       "      <td>1</td>\n",
       "      <td>6</td>\n",
       "      <td>5</td>\n",
       "      <td>0</td>\n",
       "      <td>0</td>\n",
       "      <td>52</td>\n",
       "      <td>72</td>\n",
       "      <td>256</td>\n",
       "      <td>279</td>\n",
       "    </tr>\n",
       "    <tr>\n",
       "      <th>1</th>\n",
       "      <td>ENGLAND</td>\n",
       "      <td>IRAN</td>\n",
       "      <td>72%</td>\n",
       "      <td>19%</td>\n",
       "      <td>9%</td>\n",
       "      <td>6</td>\n",
       "      <td>2</td>\n",
       "      <td>21 NOV 2022</td>\n",
       "      <td>14 : 00</td>\n",
       "      <td>Group B</td>\n",
       "      <td>...</td>\n",
       "      <td>0</td>\n",
       "      <td>1</td>\n",
       "      <td>8</td>\n",
       "      <td>13</td>\n",
       "      <td>0</td>\n",
       "      <td>0</td>\n",
       "      <td>63</td>\n",
       "      <td>72</td>\n",
       "      <td>139</td>\n",
       "      <td>416</td>\n",
       "    </tr>\n",
       "    <tr>\n",
       "      <th>2</th>\n",
       "      <td>SENEGAL</td>\n",
       "      <td>NETHERLANDS</td>\n",
       "      <td>44%</td>\n",
       "      <td>45%</td>\n",
       "      <td>11%</td>\n",
       "      <td>0</td>\n",
       "      <td>2</td>\n",
       "      <td>21 NOV 2022</td>\n",
       "      <td>17 : 00</td>\n",
       "      <td>Group A</td>\n",
       "      <td>...</td>\n",
       "      <td>0</td>\n",
       "      <td>0</td>\n",
       "      <td>9</td>\n",
       "      <td>15</td>\n",
       "      <td>0</td>\n",
       "      <td>0</td>\n",
       "      <td>63</td>\n",
       "      <td>73</td>\n",
       "      <td>263</td>\n",
       "      <td>251</td>\n",
       "    </tr>\n",
       "    <tr>\n",
       "      <th>3</th>\n",
       "      <td>UNITED STATES</td>\n",
       "      <td>WALES</td>\n",
       "      <td>51%</td>\n",
       "      <td>39%</td>\n",
       "      <td>10%</td>\n",
       "      <td>1</td>\n",
       "      <td>1</td>\n",
       "      <td>21 NOV 2022</td>\n",
       "      <td>20 : 00</td>\n",
       "      <td>Group B</td>\n",
       "      <td>...</td>\n",
       "      <td>0</td>\n",
       "      <td>1</td>\n",
       "      <td>7</td>\n",
       "      <td>7</td>\n",
       "      <td>0</td>\n",
       "      <td>0</td>\n",
       "      <td>81</td>\n",
       "      <td>72</td>\n",
       "      <td>242</td>\n",
       "      <td>292</td>\n",
       "    </tr>\n",
       "    <tr>\n",
       "      <th>4</th>\n",
       "      <td>ARGENTINA</td>\n",
       "      <td>SAUDI ARABIA</td>\n",
       "      <td>64%</td>\n",
       "      <td>24%</td>\n",
       "      <td>12%</td>\n",
       "      <td>1</td>\n",
       "      <td>2</td>\n",
       "      <td>22 NOV 2022</td>\n",
       "      <td>11 : 00</td>\n",
       "      <td>Group C</td>\n",
       "      <td>...</td>\n",
       "      <td>1</td>\n",
       "      <td>0</td>\n",
       "      <td>4</td>\n",
       "      <td>14</td>\n",
       "      <td>0</td>\n",
       "      <td>0</td>\n",
       "      <td>65</td>\n",
       "      <td>80</td>\n",
       "      <td>163</td>\n",
       "      <td>361</td>\n",
       "    </tr>\n",
       "  </tbody>\n",
       "</table>\n",
       "<p>5 rows × 88 columns</p>\n",
       "</div>"
      ],
      "text/plain": [
       "           team1         team2 possession team1 possession team2  \\\n",
       "0          QATAR       ECUADOR              42%              50%   \n",
       "1        ENGLAND          IRAN              72%              19%   \n",
       "2        SENEGAL   NETHERLANDS              44%              45%   \n",
       "3  UNITED STATES         WALES              51%              39%   \n",
       "4      ARGENTINA  SAUDI ARABIA              64%              24%   \n",
       "\n",
       "  possession in contest  number of goals team1  number of goals team2  \\\n",
       "0                    8%                      0                      2   \n",
       "1                    9%                      6                      2   \n",
       "2                   11%                      0                      2   \n",
       "3                   10%                      1                      1   \n",
       "4                   12%                      1                      2   \n",
       "\n",
       "          date     hour category  ...  penalties scored team1  \\\n",
       "0  20 NOV 2022  17 : 00  Group A  ...                       0   \n",
       "1  21 NOV 2022  14 : 00  Group B  ...                       0   \n",
       "2  21 NOV 2022  17 : 00  Group A  ...                       0   \n",
       "3  21 NOV 2022  20 : 00  Group B  ...                       0   \n",
       "4  22 NOV 2022  11 : 00  Group C  ...                       1   \n",
       "\n",
       "   penalties scored team2  goal preventions team1  goal preventions team2  \\\n",
       "0                       1                       6                       5   \n",
       "1                       1                       8                      13   \n",
       "2                       0                       9                      15   \n",
       "3                       1                       7                       7   \n",
       "4                       0                       4                      14   \n",
       "\n",
       "   own goals team1  own goals team2  forced turnovers team1  \\\n",
       "0                0                0                      52   \n",
       "1                0                0                      63   \n",
       "2                0                0                      63   \n",
       "3                0                0                      81   \n",
       "4                0                0                      65   \n",
       "\n",
       "   forced turnovers team2  defensive pressures applied team1  \\\n",
       "0                      72                                256   \n",
       "1                      72                                139   \n",
       "2                      73                                263   \n",
       "3                      72                                242   \n",
       "4                      80                                163   \n",
       "\n",
       "   defensive pressures applied team2  \n",
       "0                                279  \n",
       "1                                416  \n",
       "2                                251  \n",
       "3                                292  \n",
       "4                                361  \n",
       "\n",
       "[5 rows x 88 columns]"
      ]
     },
     "execution_count": 4,
     "metadata": {},
     "output_type": "execute_result"
    }
   ],
   "source": [
    "df = pd.read_csv('Fifa_world_cup_matches.csv')\n",
    "df.head()"
   ]
  },
  {
   "cell_type": "code",
   "execution_count": 5,
   "metadata": {},
   "outputs": [
    {
     "data": {
      "text/plain": [
       "team1                                0\n",
       "team2                                0\n",
       "possession team1                     0\n",
       "possession team2                     0\n",
       "possession in contest                0\n",
       "                                    ..\n",
       "own goals team2                      0\n",
       "forced turnovers team1               0\n",
       "forced turnovers team2               0\n",
       "defensive pressures applied team1    0\n",
       "defensive pressures applied team2    0\n",
       "Length: 88, dtype: int64"
      ]
     },
     "execution_count": 5,
     "metadata": {},
     "output_type": "execute_result"
    }
   ],
   "source": [
    "df.isnull().sum()"
   ]
  },
  {
   "cell_type": "markdown",
   "metadata": {},
   "source": [
    "From the outset, we can see that the dataset needs some slight manipulation. \n",
    "\n",
    "For example, if I wanted to find the total number of goals scored by Argentina, I need to sum all the goals scored when Argentina was team1, and when Argentina was team2. \n",
    "\n",
    "DONT MODIFY THE ORIGINAL EXCEL , but USE PANDAS TO MANIPULATE A BETTER TABLE? \n",
    "\n",
    "Let's identify some of the data points which look interesting\n",
    "\n",
    "\n",
    "- Possession - columns C and D\n",
    "- Number of Goals (scored) - columns F and G\n",
    "- Number of Attempts - so we can see calculate conversion (feature engineering?) clumns K and L\n",
    "- Goals Conceded - columns M and N\n",
    "- Assists? (indication of teamplay)\n",
    "- Yellow Cards/ Red Cards\n",
    "- Passes - pass completion - FEATURE - can compute accuracy\n",
    "\n",
    "\n"
   ]
  },
  {
   "cell_type": "code",
   "execution_count": 8,
   "metadata": {},
   "outputs": [],
   "source": [
    "team_goals = df.groupby('team1')['number of goals team1'].sum().reset_index()\n",
    "team_goals.columns = ['Team', 'Goals']\n",
    "\n",
    "\n",
    "team_goals['Goals'] += df.groupby('team2')['number of goals team2'].sum().reset_index()['number of goals team2']"
   ]
  },
  {
   "cell_type": "code",
   "execution_count": 9,
   "metadata": {},
   "outputs": [
    {
     "data": {
      "image/png": "[encoded data removed]",
      "text/plain": [
       "<Figure size 720x432 with 1 Axes>"
      ]
     },
     "metadata": {
      "needs_background": "light"
     },
     "output_type": "display_data"
    }
   ],
   "source": [
    "plt.figure(figsize=(10,6))\n",
    "plt.bar(team_goals['Team'], team_goals['Goals'])\n",
    "plt.xlabel('Team')\n",
    "plt.ylabel('Total Goals')\n",
    "plt.title('Total Goals Scored by Each Team')\n",
    "plt.xticks(rotation=90)\n",
    "plt.show()"
   ]
  }
 ],
 "metadata": {
  "kernelspec": {
   "display_name": "Python 3.8.8 ('base')",
   "language": "python",
   "name": "python3"
  },
  "language_info": {
   "codemirror_mode": {
    "name": "ipython",
    "version": 3
   },
   "file_extension": ".py",
   "mimetype": "text/x-python",
   "name": "python",
   "nbconvert_exporter": "python",
   "pygments_lexer": "ipython3",
   "version": "3.8.8"
  },
  "orig_nbformat": 4,
  "vscode": {
   "interpreter": {
    "hash": "44bd7140a60fa536d8e38a659687cb8d368afa2b7bc63557996eb91209ae506e"
   }
  }
 },
 "nbformat": 4,
 "nbformat_minor": 2
}
