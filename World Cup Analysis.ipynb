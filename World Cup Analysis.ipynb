{
 "cells": [
  {
   "attachments": {},
   "cell_type": "markdown",
   "metadata": {},
   "source": [
    "### QATAR WORLD CUP 2022 ANALYSIS"
   ]
  },
  {
   "attachments": {},
   "cell_type": "markdown",
   "metadata": {},
   "source": [
    "### Step 0 - Imports and Reading Data"
   ]
  },
  {
   "cell_type": "code",
   "execution_count": 2,
   "metadata": {},
   "outputs": [],
   "source": [
    "import pandas as pd\n",
    "import numpy as np\n",
    "import random\n",
    "\n",
    "import matplotlib.pyplot as plt\n",
    "import seaborn as sns"
   ]
  },
  {
   "attachments": {},
   "cell_type": "markdown",
   "metadata": {},
   "source": [
    "### Step 1 - Data Understanding"
   ]
  },
  {
   "cell_type": "code",
   "execution_count": 3,
   "metadata": {},
   "outputs": [
    {
     "data": {
      "text/html": [
       "<div>\n",
       "<style scoped>\n",
       "    .dataframe tbody tr th:only-of-type {\n",
       "        vertical-align: middle;\n",
       "    }\n",
       "\n",
       "    .dataframe tbody tr th {\n",
       "        vertical-align: top;\n",
       "    }\n",
       "\n",
       "    .dataframe thead th {\n",
       "        text-align: right;\n",
       "    }\n",
       "</style>\n",
       "<table border=\"1\" class=\"dataframe\">\n",
       "  <thead>\n",
       "    <tr style=\"text-align: right;\">\n",
       "      <th></th>\n",
       "      <th>team1</th>\n",
       "      <th>team2</th>\n",
       "      <th>possession team1</th>\n",
       "      <th>possession team2</th>\n",
       "      <th>possession in contest</th>\n",
       "      <th>number of goals team1</th>\n",
       "      <th>number of goals team2</th>\n",
       "      <th>date</th>\n",
       "      <th>hour</th>\n",
       "      <th>category</th>\n",
       "      <th>...</th>\n",
       "      <th>penalties scored team1</th>\n",
       "      <th>penalties scored team2</th>\n",
       "      <th>goal preventions team1</th>\n",
       "      <th>goal preventions team2</th>\n",
       "      <th>own goals team1</th>\n",
       "      <th>own goals team2</th>\n",
       "      <th>forced turnovers team1</th>\n",
       "      <th>forced turnovers team2</th>\n",
       "      <th>defensive pressures applied team1</th>\n",
       "      <th>defensive pressures applied team2</th>\n",
       "    </tr>\n",
       "  </thead>\n",
       "  <tbody>\n",
       "    <tr>\n",
       "      <th>0</th>\n",
       "      <td>QATAR</td>\n",
       "      <td>ECUADOR</td>\n",
       "      <td>42%</td>\n",
       "      <td>50%</td>\n",
       "      <td>8%</td>\n",
       "      <td>0</td>\n",
       "      <td>2</td>\n",
       "      <td>20 NOV 2022</td>\n",
       "      <td>17 : 00</td>\n",
       "      <td>Group A</td>\n",
       "      <td>...</td>\n",
       "      <td>0</td>\n",
       "      <td>1</td>\n",
       "      <td>6</td>\n",
       "      <td>5</td>\n",
       "      <td>0</td>\n",
       "      <td>0</td>\n",
       "      <td>52</td>\n",
       "      <td>72</td>\n",
       "      <td>256</td>\n",
       "      <td>279</td>\n",
       "    </tr>\n",
       "    <tr>\n",
       "      <th>1</th>\n",
       "      <td>ENGLAND</td>\n",
       "      <td>IRAN</td>\n",
       "      <td>72%</td>\n",
       "      <td>19%</td>\n",
       "      <td>9%</td>\n",
       "      <td>6</td>\n",
       "      <td>2</td>\n",
       "      <td>21 NOV 2022</td>\n",
       "      <td>14 : 00</td>\n",
       "      <td>Group B</td>\n",
       "      <td>...</td>\n",
       "      <td>0</td>\n",
       "      <td>1</td>\n",
       "      <td>8</td>\n",
       "      <td>13</td>\n",
       "      <td>0</td>\n",
       "      <td>0</td>\n",
       "      <td>63</td>\n",
       "      <td>72</td>\n",
       "      <td>139</td>\n",
       "      <td>416</td>\n",
       "    </tr>\n",
       "    <tr>\n",
       "      <th>2</th>\n",
       "      <td>SENEGAL</td>\n",
       "      <td>NETHERLANDS</td>\n",
       "      <td>44%</td>\n",
       "      <td>45%</td>\n",
       "      <td>11%</td>\n",
       "      <td>0</td>\n",
       "      <td>2</td>\n",
       "      <td>21 NOV 2022</td>\n",
       "      <td>17 : 00</td>\n",
       "      <td>Group A</td>\n",
       "      <td>...</td>\n",
       "      <td>0</td>\n",
       "      <td>0</td>\n",
       "      <td>9</td>\n",
       "      <td>15</td>\n",
       "      <td>0</td>\n",
       "      <td>0</td>\n",
       "      <td>63</td>\n",
       "      <td>73</td>\n",
       "      <td>263</td>\n",
       "      <td>251</td>\n",
       "    </tr>\n",
       "    <tr>\n",
       "      <th>3</th>\n",
       "      <td>UNITED STATES</td>\n",
       "      <td>WALES</td>\n",
       "      <td>51%</td>\n",
       "      <td>39%</td>\n",
       "      <td>10%</td>\n",
       "      <td>1</td>\n",
       "      <td>1</td>\n",
       "      <td>21 NOV 2022</td>\n",
       "      <td>20 : 00</td>\n",
       "      <td>Group B</td>\n",
       "      <td>...</td>\n",
       "      <td>0</td>\n",
       "      <td>1</td>\n",
       "      <td>7</td>\n",
       "      <td>7</td>\n",
       "      <td>0</td>\n",
       "      <td>0</td>\n",
       "      <td>81</td>\n",
       "      <td>72</td>\n",
       "      <td>242</td>\n",
       "      <td>292</td>\n",
       "    </tr>\n",
       "    <tr>\n",
       "      <th>4</th>\n",
       "      <td>ARGENTINA</td>\n",
       "      <td>SAUDI ARABIA</td>\n",
       "      <td>64%</td>\n",
       "      <td>24%</td>\n",
       "      <td>12%</td>\n",
       "      <td>1</td>\n",
       "      <td>2</td>\n",
       "      <td>22 NOV 2022</td>\n",
       "      <td>11 : 00</td>\n",
       "      <td>Group C</td>\n",
       "      <td>...</td>\n",
       "      <td>1</td>\n",
       "      <td>0</td>\n",
       "      <td>4</td>\n",
       "      <td>14</td>\n",
       "      <td>0</td>\n",
       "      <td>0</td>\n",
       "      <td>65</td>\n",
       "      <td>80</td>\n",
       "      <td>163</td>\n",
       "      <td>361</td>\n",
       "    </tr>\n",
       "  </tbody>\n",
       "</table>\n",
       "<p>5 rows × 88 columns</p>\n",
       "</div>"
      ],
      "text/plain": [
       "           team1         team2 possession team1 possession team2  \\\n",
       "0          QATAR       ECUADOR              42%              50%   \n",
       "1        ENGLAND          IRAN              72%              19%   \n",
       "2        SENEGAL   NETHERLANDS              44%              45%   \n",
       "3  UNITED STATES         WALES              51%              39%   \n",
       "4      ARGENTINA  SAUDI ARABIA              64%              24%   \n",
       "\n",
       "  possession in contest  number of goals team1  number of goals team2  \\\n",
       "0                    8%                      0                      2   \n",
       "1                    9%                      6                      2   \n",
       "2                   11%                      0                      2   \n",
       "3                   10%                      1                      1   \n",
       "4                   12%                      1                      2   \n",
       "\n",
       "          date     hour category  ...  penalties scored team1  \\\n",
       "0  20 NOV 2022  17 : 00  Group A  ...                       0   \n",
       "1  21 NOV 2022  14 : 00  Group B  ...                       0   \n",
       "2  21 NOV 2022  17 : 00  Group A  ...                       0   \n",
       "3  21 NOV 2022  20 : 00  Group B  ...                       0   \n",
       "4  22 NOV 2022  11 : 00  Group C  ...                       1   \n",
       "\n",
       "   penalties scored team2  goal preventions team1  goal preventions team2  \\\n",
       "0                       1                       6                       5   \n",
       "1                       1                       8                      13   \n",
       "2                       0                       9                      15   \n",
       "3                       1                       7                       7   \n",
       "4                       0                       4                      14   \n",
       "\n",
       "   own goals team1  own goals team2  forced turnovers team1  \\\n",
       "0                0                0                      52   \n",
       "1                0                0                      63   \n",
       "2                0                0                      63   \n",
       "3                0                0                      81   \n",
       "4                0                0                      65   \n",
       "\n",
       "   forced turnovers team2  defensive pressures applied team1  \\\n",
       "0                      72                                256   \n",
       "1                      72                                139   \n",
       "2                      73                                263   \n",
       "3                      72                                242   \n",
       "4                      80                                163   \n",
       "\n",
       "   defensive pressures applied team2  \n",
       "0                                279  \n",
       "1                                416  \n",
       "2                                251  \n",
       "3                                292  \n",
       "4                                361  \n",
       "\n",
       "[5 rows x 88 columns]"
      ]
     },
     "execution_count": 3,
     "metadata": {},
     "output_type": "execute_result"
    }
   ],
   "source": [
    "df = pd.read_csv('Fifa_world_cup_matches.csv')\n",
    "df.head()"
   ]
  },
  {
   "cell_type": "code",
   "execution_count": 4,
   "metadata": {},
   "outputs": [
    {
     "data": {
      "text/plain": [
       "(64, 88)"
      ]
     },
     "execution_count": 4,
     "metadata": {},
     "output_type": "execute_result"
    }
   ],
   "source": [
    "df.shape"
   ]
  },
  {
   "cell_type": "code",
   "execution_count": 5,
   "metadata": {},
   "outputs": [
    {
     "data": {
      "text/plain": [
       "Index(['team1', 'team2', 'possession team1', 'possession team2',\n",
       "       'possession in contest', 'number of goals team1',\n",
       "       'number of goals team2', 'date', 'hour', 'category',\n",
       "       'total attempts team1', 'total attempts team2', 'conceded team1',\n",
       "       'conceded team2', 'goal inside the penalty area team1',\n",
       "       'goal inside the penalty area team2',\n",
       "       'goal outside the penalty area team1',\n",
       "       'goal outside the penalty area team2', 'assists team1', 'assists team2',\n",
       "       'on target attempts team1', 'on target attempts team2',\n",
       "       'off target attempts team1', 'off target attempts team2',\n",
       "       'attempts inside the penalty area team1',\n",
       "       'attempts inside the penalty area  team2',\n",
       "       'attempts outside the penalty area  team1',\n",
       "       'attempts outside the penalty area  team2', 'left channel team1',\n",
       "       'left channel team2', 'left inside channel team1',\n",
       "       'left inside channel team2', 'central channel team1',\n",
       "       'central channel team2', 'right inside channel team1',\n",
       "       'right inside channel team2', 'right channel team1',\n",
       "       'right channel team2', 'total offers to receive team1',\n",
       "       'total offers to receive team2', 'inbehind offers to receive team1',\n",
       "       'inbehind offers to receive team2', 'inbetween offers to receive team1',\n",
       "       'inbetween offers to receive team2', 'infront offers to receive team1',\n",
       "       'infront offers to receive team2',\n",
       "       'receptions between midfield and defensive lines team1',\n",
       "       'receptions between midfield and defensive lines team2',\n",
       "       'attempted line breaks team1', 'attempted line breaks team2',\n",
       "       'completed line breaksteam1', 'completed line breaks team2',\n",
       "       'attempted defensive line breaks team1',\n",
       "       'attempted defensive line breaks team2',\n",
       "       'completed defensive line breaksteam1',\n",
       "       'completed defensive line breaks team2', 'yellow cards team1',\n",
       "       'yellow cards team2', 'red cards team1', 'red cards team2',\n",
       "       'fouls against team1', 'fouls against team2', 'offsides team1',\n",
       "       'offsides team2', 'passes team1', 'passes team2',\n",
       "       'passes completed team1', 'passes completed team2', 'crosses team1',\n",
       "       'crosses team2', 'crosses completed team1', 'crosses completed team2',\n",
       "       'switches of play completed team1', 'switches of play completed team2',\n",
       "       'corners team1', 'corners team2', 'free kicks team1',\n",
       "       'free kicks team2', 'penalties scored team1', 'penalties scored team2',\n",
       "       'goal preventions team1', 'goal preventions team2', 'own goals team1',\n",
       "       'own goals team2', 'forced turnovers team1', 'forced turnovers team2',\n",
       "       'defensive pressures applied team1',\n",
       "       'defensive pressures applied team2'],\n",
       "      dtype='object')"
      ]
     },
     "execution_count": 5,
     "metadata": {},
     "output_type": "execute_result"
    }
   ],
   "source": [
    "df.columns"
   ]
  },
  {
   "cell_type": "code",
   "execution_count": 6,
   "metadata": {},
   "outputs": [
    {
     "data": {
      "text/plain": [
       "team1                                object\n",
       "team2                                object\n",
       "possession team1                     object\n",
       "possession team2                     object\n",
       "possession in contest                object\n",
       "                                      ...  \n",
       "own goals team2                       int64\n",
       "forced turnovers team1                int64\n",
       "forced turnovers team2                int64\n",
       "defensive pressures applied team1     int64\n",
       "defensive pressures applied team2     int64\n",
       "Length: 88, dtype: object"
      ]
     },
     "execution_count": 6,
     "metadata": {},
     "output_type": "execute_result"
    }
   ],
   "source": [
    "df.dtypes"
   ]
  },
  {
   "cell_type": "code",
   "execution_count": 7,
   "metadata": {},
   "outputs": [
    {
     "data": {
      "text/plain": [
       "<bound method NDFrame.describe of             team1         team2 possession team1 possession team2  \\\n",
       "0           QATAR       ECUADOR              42%              50%   \n",
       "1         ENGLAND          IRAN              72%              19%   \n",
       "2         SENEGAL   NETHERLANDS              44%              45%   \n",
       "3   UNITED STATES         WALES              51%              39%   \n",
       "4       ARGENTINA  SAUDI ARABIA              64%              24%   \n",
       "..            ...           ...              ...              ...   \n",
       "59        ENGLAND        FRANCE              54%              36%   \n",
       "60      ARGENTINA       CROATIA              34%              54%   \n",
       "61         FRANCE       MOROCCO              34%              55%   \n",
       "62        CROATIA       MOROCCO              45%              45%   \n",
       "63      ARGENTINA        FRANCE              46%              40%   \n",
       "\n",
       "   possession in contest  number of goals team1  number of goals team2  \\\n",
       "0                     8%                      0                      2   \n",
       "1                     9%                      6                      2   \n",
       "2                    11%                      0                      2   \n",
       "3                    10%                      1                      1   \n",
       "4                    12%                      1                      2   \n",
       "..                   ...                    ...                    ...   \n",
       "59                   10%                      1                      2   \n",
       "60                   12%                      3                      0   \n",
       "61                   11%                      2                      0   \n",
       "62                   10%                      2                      1   \n",
       "63                   14%                      3                      3   \n",
       "\n",
       "           date     hour                  category  ...  \\\n",
       "0   20 NOV 2022  17 : 00                   Group A  ...   \n",
       "1   21 NOV 2022  14 : 00                   Group B  ...   \n",
       "2   21 NOV 2022  17 : 00                   Group A  ...   \n",
       "3   21 NOV 2022  20 : 00                   Group B  ...   \n",
       "4   22 NOV 2022  11 : 00                   Group C  ...   \n",
       "..          ...      ...                       ...  ...   \n",
       "59  10 DEC 2022  20 : 00             Quarter-final  ...   \n",
       "60  13 DEC 2022  20 : 00                Semi-final  ...   \n",
       "61  14 DEC 2022  20 : 00                Semi-final  ...   \n",
       "62  17 DEC 2022  16 : 00  Play-off for third place  ...   \n",
       "63  18 DEC 2022  16 : 00                     Final  ...   \n",
       "\n",
       "    penalties scored team1  penalties scored team2  goal preventions team1  \\\n",
       "0                        0                       1                       6   \n",
       "1                        0                       1                       8   \n",
       "2                        0                       0                       9   \n",
       "3                        0                       1                       7   \n",
       "4                        1                       0                       4   \n",
       "..                     ...                     ...                     ...   \n",
       "59                       1                       0                       9   \n",
       "60                       1                       0                      12   \n",
       "61                       0                       0                      13   \n",
       "62                       0                       0                       7   \n",
       "63                       1                       2                      11   \n",
       "\n",
       "    goal preventions team2  own goals team1  own goals team2  \\\n",
       "0                        5                0                0   \n",
       "1                       13                0                0   \n",
       "2                       15                0                0   \n",
       "3                        7                0                0   \n",
       "4                       14                0                0   \n",
       "..                     ...              ...              ...   \n",
       "59                      15                0                0   \n",
       "60                      10                0                0   \n",
       "61                      14                0                0   \n",
       "62                      14                0                0   \n",
       "63                      21                0                0   \n",
       "\n",
       "    forced turnovers team1  forced turnovers team2  \\\n",
       "0                       52                      72   \n",
       "1                       63                      72   \n",
       "2                       63                      73   \n",
       "3                       81                      72   \n",
       "4                       65                      80   \n",
       "..                     ...                     ...   \n",
       "59                      49                      54   \n",
       "60                      85                      63   \n",
       "61                      72                      47   \n",
       "62                      75                      72   \n",
       "63                      87                     104   \n",
       "\n",
       "    defensive pressures applied team1  defensive pressures applied team2  \n",
       "0                                 256                                279  \n",
       "1                                 139                                416  \n",
       "2                                 263                                251  \n",
       "3                                 242                                292  \n",
       "4                                 163                                361  \n",
       "..                                ...                                ...  \n",
       "59                                193                                308  \n",
       "60                                321                                260  \n",
       "61                                328                                218  \n",
       "62                                288                                277  \n",
       "63                                280                                409  \n",
       "\n",
       "[64 rows x 88 columns]>"
      ]
     },
     "execution_count": 7,
     "metadata": {},
     "output_type": "execute_result"
    }
   ],
   "source": [
    "df.describe"
   ]
  },
  {
   "cell_type": "code",
   "execution_count": 8,
   "metadata": {},
   "outputs": [
    {
     "data": {
      "text/plain": [
       "team1                                0\n",
       "team2                                0\n",
       "possession team1                     0\n",
       "possession team2                     0\n",
       "possession in contest                0\n",
       "                                    ..\n",
       "own goals team2                      0\n",
       "forced turnovers team1               0\n",
       "forced turnovers team2               0\n",
       "defensive pressures applied team1    0\n",
       "defensive pressures applied team2    0\n",
       "Length: 88, dtype: int64"
      ]
     },
     "execution_count": 8,
     "metadata": {},
     "output_type": "execute_result"
    }
   ],
   "source": [
    "# Check for any null values\n",
    "df.isnull().sum()"
   ]
  },
  {
   "cell_type": "code",
   "execution_count": 9,
   "metadata": {},
   "outputs": [
    {
     "name": "stdout",
     "output_type": "stream",
     "text": [
      "<class 'pandas.core.frame.DataFrame'>\n",
      "RangeIndex: 64 entries, 0 to 63\n",
      "Data columns (total 88 columns):\n",
      " #   Column                                                 Non-Null Count  Dtype \n",
      "---  ------                                                 --------------  ----- \n",
      " 0   team1                                                  64 non-null     object\n",
      " 1   team2                                                  64 non-null     object\n",
      " 2   possession team1                                       64 non-null     object\n",
      " 3   possession team2                                       64 non-null     object\n",
      " 4   possession in contest                                  64 non-null     object\n",
      " 5   number of goals team1                                  64 non-null     int64 \n",
      " 6   number of goals team2                                  64 non-null     int64 \n",
      " 7   date                                                   64 non-null     object\n",
      " 8   hour                                                   64 non-null     object\n",
      " 9   category                                               64 non-null     object\n",
      " 10  total attempts team1                                   64 non-null     int64 \n",
      " 11  total attempts team2                                   64 non-null     int64 \n",
      " 12  conceded team1                                         64 non-null     int64 \n",
      " 13  conceded team2                                         64 non-null     int64 \n",
      " 14  goal inside the penalty area team1                     64 non-null     int64 \n",
      " 15  goal inside the penalty area team2                     64 non-null     int64 \n",
      " 16  goal outside the penalty area team1                    64 non-null     int64 \n",
      " 17  goal outside the penalty area team2                    64 non-null     int64 \n",
      " 18  assists team1                                          64 non-null     int64 \n",
      " 19  assists team2                                          64 non-null     int64 \n",
      " 20  on target attempts team1                               64 non-null     int64 \n",
      " 21  on target attempts team2                               64 non-null     int64 \n",
      " 22  off target attempts team1                              64 non-null     int64 \n",
      " 23  off target attempts team2                              64 non-null     int64 \n",
      " 24  attempts inside the penalty area team1                 64 non-null     int64 \n",
      " 25  attempts inside the penalty area  team2                64 non-null     int64 \n",
      " 26  attempts outside the penalty area  team1               64 non-null     int64 \n",
      " 27  attempts outside the penalty area  team2               64 non-null     int64 \n",
      " 28  left channel team1                                     64 non-null     int64 \n",
      " 29  left channel team2                                     64 non-null     int64 \n",
      " 30  left inside channel team1                              64 non-null     int64 \n",
      " 31  left inside channel team2                              64 non-null     int64 \n",
      " 32  central channel team1                                  64 non-null     int64 \n",
      " 33  central channel team2                                  64 non-null     int64 \n",
      " 34  right inside channel team1                             64 non-null     int64 \n",
      " 35  right inside channel team2                             64 non-null     int64 \n",
      " 36  right channel team1                                    64 non-null     int64 \n",
      " 37  right channel team2                                    64 non-null     int64 \n",
      " 38  total offers to receive team1                          64 non-null     int64 \n",
      " 39  total offers to receive team2                          64 non-null     int64 \n",
      " 40  inbehind offers to receive team1                       64 non-null     int64 \n",
      " 41  inbehind offers to receive team2                       64 non-null     int64 \n",
      " 42  inbetween offers to receive team1                      64 non-null     int64 \n",
      " 43  inbetween offers to receive team2                      64 non-null     int64 \n",
      " 44  infront offers to receive team1                        64 non-null     int64 \n",
      " 45  infront offers to receive team2                        64 non-null     int64 \n",
      " 46  receptions between midfield and defensive lines team1  64 non-null     int64 \n",
      " 47  receptions between midfield and defensive lines team2  64 non-null     int64 \n",
      " 48  attempted line breaks team1                            64 non-null     int64 \n",
      " 49  attempted line breaks team2                            64 non-null     int64 \n",
      " 50  completed line breaksteam1                             64 non-null     int64 \n",
      " 51  completed line breaks team2                            64 non-null     int64 \n",
      " 52  attempted defensive line breaks team1                  64 non-null     int64 \n",
      " 53  attempted defensive line breaks team2                  64 non-null     int64 \n",
      " 54  completed defensive line breaksteam1                   64 non-null     int64 \n",
      " 55  completed defensive line breaks team2                  64 non-null     int64 \n",
      " 56  yellow cards team1                                     64 non-null     int64 \n",
      " 57  yellow cards team2                                     64 non-null     int64 \n",
      " 58  red cards team1                                        64 non-null     int64 \n",
      " 59  red cards team2                                        64 non-null     int64 \n",
      " 60  fouls against team1                                    64 non-null     int64 \n",
      " 61  fouls against team2                                    64 non-null     int64 \n",
      " 62  offsides team1                                         64 non-null     int64 \n",
      " 63  offsides team2                                         64 non-null     int64 \n",
      " 64  passes team1                                           64 non-null     int64 \n",
      " 65  passes team2                                           64 non-null     int64 \n",
      " 66  passes completed team1                                 64 non-null     int64 \n",
      " 67  passes completed team2                                 64 non-null     int64 \n",
      " 68  crosses team1                                          64 non-null     int64 \n",
      " 69  crosses team2                                          64 non-null     int64 \n",
      " 70  crosses completed team1                                64 non-null     int64 \n",
      " 71  crosses completed team2                                64 non-null     int64 \n",
      " 72  switches of play completed team1                       64 non-null     int64 \n",
      " 73  switches of play completed team2                       64 non-null     int64 \n",
      " 74  corners team1                                          64 non-null     int64 \n",
      " 75  corners team2                                          64 non-null     int64 \n",
      " 76  free kicks team1                                       64 non-null     int64 \n",
      " 77  free kicks team2                                       64 non-null     int64 \n",
      " 78  penalties scored team1                                 64 non-null     int64 \n",
      " 79  penalties scored team2                                 64 non-null     int64 \n",
      " 80  goal preventions team1                                 64 non-null     int64 \n",
      " 81  goal preventions team2                                 64 non-null     int64 \n",
      " 82  own goals team1                                        64 non-null     int64 \n",
      " 83  own goals team2                                        64 non-null     int64 \n",
      " 84  forced turnovers team1                                 64 non-null     int64 \n",
      " 85  forced turnovers team2                                 64 non-null     int64 \n",
      " 86  defensive pressures applied team1                      64 non-null     int64 \n",
      " 87  defensive pressures applied team2                      64 non-null     int64 \n",
      "dtypes: int64(80), object(8)\n",
      "memory usage: 44.1+ KB\n"
     ]
    }
   ],
   "source": [
    "df.info()"
   ]
  },
  {
   "cell_type": "code",
   "execution_count": 10,
   "metadata": {},
   "outputs": [
    {
     "data": {
      "text/plain": [
       "0     False\n",
       "1     False\n",
       "2     False\n",
       "3     False\n",
       "4     False\n",
       "      ...  \n",
       "59    False\n",
       "60    False\n",
       "61    False\n",
       "62    False\n",
       "63    False\n",
       "Length: 64, dtype: bool"
      ]
     },
     "execution_count": 10,
     "metadata": {},
     "output_type": "execute_result"
    }
   ],
   "source": [
    "# Check for any duplicated values\n",
    "df.duplicated()"
   ]
  },
  {
   "attachments": {},
   "cell_type": "markdown",
   "metadata": {},
   "source": [
    "### Step 2 - Data Preparation"
   ]
  },
  {
   "attachments": {},
   "cell_type": "markdown",
   "metadata": {},
   "source": [
    "\n",
    "<!--  TODO - Pick the features we want to analyse, then drop everything else? -->\n",
    "\n",
    "Let's identify some of the data points which look interesting\n",
    "\n",
    "- Possession - columns C and D\n",
    "- Number of Goals (scored) - columns F and G\n",
    "- Number of Attempts - so we can see calculate conversion (feature engineering?) clumns K and L\n",
    "- Goals Conceded - columns M and N\n",
    "- Assists? (indication of teamplay)\n",
    "- Yellow Cards/ Red Cards\n",
    "- Passes - pass completion - FEATURE - can compute accuracy\n",
    "\n",
    "\n"
   ]
  },
  {
   "attachments": {},
   "cell_type": "markdown",
   "metadata": {},
   "source": [
    "### Step 3: Feature Understanding"
   ]
  },
  {
   "attachments": {},
   "cell_type": "markdown",
   "metadata": {},
   "source": [
    "### Goals"
   ]
  },
  {
   "cell_type": "code",
   "execution_count": 16,
   "metadata": {},
   "outputs": [],
   "source": [
    "team_goals = df.groupby('team1')['number of goals team1'].sum().reset_index()\n",
    "team_goals.columns = ['Team', 'Goals']\n",
    "\n",
    "\n",
    "team_goals['Goals'] += df.groupby('team2')['number of goals team2'].sum().reset_index()['number of goals team2']"
   ]
  },
  {
   "cell_type": "code",
   "execution_count": 17,
   "metadata": {},
   "outputs": [
    {
     "data": {
      "text/html": [
       "<div>\n",
       "<style scoped>\n",
       "    .dataframe tbody tr th:only-of-type {\n",
       "        vertical-align: middle;\n",
       "    }\n",
       "\n",
       "    .dataframe tbody tr th {\n",
       "        vertical-align: top;\n",
       "    }\n",
       "\n",
       "    .dataframe thead th {\n",
       "        text-align: right;\n",
       "    }\n",
       "</style>\n",
       "<table border=\"1\" class=\"dataframe\">\n",
       "  <thead>\n",
       "    <tr style=\"text-align: right;\">\n",
       "      <th></th>\n",
       "      <th>Team</th>\n",
       "      <th>Goals</th>\n",
       "    </tr>\n",
       "  </thead>\n",
       "  <tbody>\n",
       "    <tr>\n",
       "      <th>0</th>\n",
       "      <td>ARGENTINA</td>\n",
       "      <td>15</td>\n",
       "    </tr>\n",
       "    <tr>\n",
       "      <th>1</th>\n",
       "      <td>AUSTRALIA</td>\n",
       "      <td>4</td>\n",
       "    </tr>\n",
       "    <tr>\n",
       "      <th>2</th>\n",
       "      <td>BELGIUM</td>\n",
       "      <td>1</td>\n",
       "    </tr>\n",
       "    <tr>\n",
       "      <th>3</th>\n",
       "      <td>BRAZIL</td>\n",
       "      <td>8</td>\n",
       "    </tr>\n",
       "    <tr>\n",
       "      <th>4</th>\n",
       "      <td>CAMEROON</td>\n",
       "      <td>4</td>\n",
       "    </tr>\n",
       "  </tbody>\n",
       "</table>\n",
       "</div>"
      ],
      "text/plain": [
       "        Team  Goals\n",
       "0  ARGENTINA     15\n",
       "1  AUSTRALIA      4\n",
       "2    BELGIUM      1\n",
       "3     BRAZIL      8\n",
       "4   CAMEROON      4"
      ]
     },
     "execution_count": 17,
     "metadata": {},
     "output_type": "execute_result"
    }
   ],
   "source": [
    "# Check to see table creation worked\n",
    "team_goals.head()"
   ]
  },
  {
   "cell_type": "code",
   "execution_count": 22,
   "metadata": {},
   "outputs": [],
   "source": [
    "team_goals.to_csv('team_goals.csv', index=False)\n"
   ]
  },
  {
   "cell_type": "code",
   "execution_count": 12,
   "metadata": {},
   "outputs": [
    {
     "data": {
      "image/png": "[encoded data removed]",
      "text/plain": [
       "<Figure size 720x432 with 1 Axes>"
      ]
     },
     "metadata": {
      "needs_background": "light"
     },
     "output_type": "display_data"
    }
   ],
   "source": [
    "plt.figure(figsize=(10,6))\n",
    "plt.bar(team_goals['Team'], team_goals['Goals'])\n",
    "plt.xlabel('Team')\n",
    "plt.ylabel('Total Goals')\n",
    "plt.title('Total Goals Scored by Each Team')\n",
    "plt.xticks(rotation=90)\n",
    "plt.show()"
   ]
  },
  {
   "attachments": {},
   "cell_type": "markdown",
   "metadata": {},
   "source": [
    "# Lets have this as initial sort of analysis so the working looks good, and then convert the modified pandas stuff to .csvs and make a dashboard visualisation with it\n",
    "\n"
   ]
  },
  {
   "attachments": {},
   "cell_type": "markdown",
   "metadata": {},
   "source": [
    "# Team | Goals | Games Played "
   ]
  },
  {
   "cell_type": "code",
   "execution_count": 20,
   "metadata": {},
   "outputs": [
    {
     "data": {
      "text/html": [
       "<div>\n",
       "<style scoped>\n",
       "    .dataframe tbody tr th:only-of-type {\n",
       "        vertical-align: middle;\n",
       "    }\n",
       "\n",
       "    .dataframe tbody tr th {\n",
       "        vertical-align: top;\n",
       "    }\n",
       "\n",
       "    .dataframe thead th {\n",
       "        text-align: right;\n",
       "    }\n",
       "</style>\n",
       "<table border=\"1\" class=\"dataframe\">\n",
       "  <thead>\n",
       "    <tr style=\"text-align: right;\">\n",
       "      <th></th>\n",
       "      <th>Team</th>\n",
       "      <th>Games Played</th>\n",
       "    </tr>\n",
       "  </thead>\n",
       "  <tbody>\n",
       "    <tr>\n",
       "      <th>0</th>\n",
       "      <td>FRANCE</td>\n",
       "      <td>7</td>\n",
       "    </tr>\n",
       "    <tr>\n",
       "      <th>1</th>\n",
       "      <td>MOROCCO</td>\n",
       "      <td>7</td>\n",
       "    </tr>\n",
       "    <tr>\n",
       "      <th>2</th>\n",
       "      <td>ARGENTINA</td>\n",
       "      <td>7</td>\n",
       "    </tr>\n",
       "    <tr>\n",
       "      <th>3</th>\n",
       "      <td>CROATIA</td>\n",
       "      <td>7</td>\n",
       "    </tr>\n",
       "    <tr>\n",
       "      <th>4</th>\n",
       "      <td>ENGLAND</td>\n",
       "      <td>5</td>\n",
       "    </tr>\n",
       "  </tbody>\n",
       "</table>\n",
       "</div>"
      ],
      "text/plain": [
       "        Team  Games Played\n",
       "0     FRANCE             7\n",
       "1    MOROCCO             7\n",
       "2  ARGENTINA             7\n",
       "3    CROATIA             7\n",
       "4    ENGLAND             5"
      ]
     },
     "execution_count": 20,
     "metadata": {},
     "output_type": "execute_result"
    }
   ],
   "source": [
    "#Find the number of games played by each team\n",
    "games_played = pd.concat([df['team1'], df['team2']]).value_counts().reset_index()\n",
    "games_played.columns = ['Team', 'Games Played']\n",
    "\n",
    "games_played.head()"
   ]
  },
  {
   "cell_type": "code",
   "execution_count": 21,
   "metadata": {},
   "outputs": [],
   "source": [
    "# Export to csv for usage in Tableau\n",
    "games_played.to_csv('games_played.csv', index=False)"
   ]
  },
  {
   "attachments": {},
   "cell_type": "markdown",
   "metadata": {},
   "source": [
    "### Goals Conceded"
   ]
  },
  {
   "cell_type": "code",
   "execution_count": 13,
   "metadata": {},
   "outputs": [],
   "source": [
    "goals_conceded = df.groupby('team1')['conceded team1'].sum().reset_index()\n",
    "goals_conceded.columns = ['Team', 'Goals']\n",
    "\n",
    "goals_conceded['Goals'] += df.groupby('team2')['conceded team2'].sum().reset_index()['conceded team2']"
   ]
  },
  {
   "cell_type": "code",
   "execution_count": 14,
   "metadata": {},
   "outputs": [
    {
     "data": {
      "image/png": "[encoded data removed]",
      "text/plain": [
       "<Figure size 720x432 with 1 Axes>"
      ]
     },
     "metadata": {
      "needs_background": "light"
     },
     "output_type": "display_data"
    }
   ],
   "source": [
    "plt.figure(figsize=(10,6))\n",
    "plt.bar(goals_conceded['Team'], goals_conceded['Goals'])\n",
    "plt.xlabel('Team')\n",
    "plt.ylabel('Total Goals')\n",
    "plt.title('Total Goals Conceded by Each Team')\n",
    "plt.xticks(rotation=90)\n",
    "plt.show()"
   ]
  },
  {
   "attachments": {},
   "cell_type": "markdown",
   "metadata": {},
   "source": [
    "### Possession (TO FIX)"
   ]
  },
  {
   "cell_type": "code",
   "execution_count": 15,
   "metadata": {},
   "outputs": [
    {
     "ename": "DataError",
     "evalue": "No numeric types to aggregate",
     "output_type": "error",
     "traceback": [
      "\u001b[0;31m---------------------------------------------------------------------------\u001b[0m",
      "\u001b[0;31mDataError\u001b[0m                                 Traceback (most recent call last)",
      "\u001b[0;32m<ipython-input-15-8adc7ee32946>\u001b[0m in \u001b[0;36m<module>\u001b[0;34m\u001b[0m\n\u001b[0;32m----> 1\u001b[0;31m \u001b[0mteam_possession\u001b[0m \u001b[0;34m=\u001b[0m \u001b[0mdf\u001b[0m\u001b[0;34m.\u001b[0m\u001b[0mgroupby\u001b[0m\u001b[0;34m(\u001b[0m\u001b[0;34m'team1'\u001b[0m\u001b[0;34m)\u001b[0m\u001b[0;34m[\u001b[0m\u001b[0;34m'possession team1'\u001b[0m\u001b[0;34m]\u001b[0m\u001b[0;34m.\u001b[0m\u001b[0mmean\u001b[0m\u001b[0;34m(\u001b[0m\u001b[0;34m)\u001b[0m\u001b[0;34m.\u001b[0m\u001b[0mreset_index\u001b[0m\u001b[0;34m(\u001b[0m\u001b[0;34m)\u001b[0m\u001b[0;34m\u001b[0m\u001b[0;34m\u001b[0m\u001b[0m\n\u001b[0m\u001b[1;32m      2\u001b[0m \u001b[0mteam_possession\u001b[0m\u001b[0;34m.\u001b[0m\u001b[0mcolumns\u001b[0m \u001b[0;34m=\u001b[0m \u001b[0;34m[\u001b[0m\u001b[0;34m'Team'\u001b[0m\u001b[0;34m,\u001b[0m \u001b[0;34m'Average Possession'\u001b[0m\u001b[0;34m]\u001b[0m\u001b[0;34m\u001b[0m\u001b[0;34m\u001b[0m\u001b[0m\n\u001b[1;32m      3\u001b[0m \u001b[0;34m\u001b[0m\u001b[0m\n\u001b[1;32m      4\u001b[0m \u001b[0mteam_possession\u001b[0m\u001b[0;34m[\u001b[0m\u001b[0;34m'Average Possession'\u001b[0m\u001b[0;34m]\u001b[0m \u001b[0;34m+=\u001b[0m \u001b[0mdf\u001b[0m\u001b[0;34m.\u001b[0m\u001b[0mgroupby\u001b[0m\u001b[0;34m(\u001b[0m\u001b[0;34m'team2'\u001b[0m\u001b[0;34m)\u001b[0m\u001b[0;34m[\u001b[0m\u001b[0;34m'possession team2'\u001b[0m\u001b[0;34m]\u001b[0m\u001b[0;34m.\u001b[0m\u001b[0mmean\u001b[0m\u001b[0;34m(\u001b[0m\u001b[0;34m)\u001b[0m\u001b[0;34m.\u001b[0m\u001b[0mreset_index\u001b[0m\u001b[0;34m(\u001b[0m\u001b[0;34m)\u001b[0m\u001b[0;34m[\u001b[0m\u001b[0;34m'possession team2'\u001b[0m\u001b[0;34m]\u001b[0m\u001b[0;34m\u001b[0m\u001b[0;34m\u001b[0m\u001b[0m\n",
      "\u001b[0;32m~/opt/anaconda3/lib/python3.8/site-packages/pandas/core/groupby/groupby.py\u001b[0m in \u001b[0;36mmean\u001b[0;34m(self, numeric_only)\u001b[0m\n\u001b[1;32m   1494\u001b[0m         \u001b[0mName\u001b[0m\u001b[0;34m:\u001b[0m \u001b[0mB\u001b[0m\u001b[0;34m,\u001b[0m \u001b[0mdtype\u001b[0m\u001b[0;34m:\u001b[0m \u001b[0mfloat64\u001b[0m\u001b[0;34m\u001b[0m\u001b[0;34m\u001b[0m\u001b[0m\n\u001b[1;32m   1495\u001b[0m         \"\"\"\n\u001b[0;32m-> 1496\u001b[0;31m         return self._cython_agg_general(\n\u001b[0m\u001b[1;32m   1497\u001b[0m             \u001b[0;34m\"mean\"\u001b[0m\u001b[0;34m,\u001b[0m\u001b[0;34m\u001b[0m\u001b[0;34m\u001b[0m\u001b[0m\n\u001b[1;32m   1498\u001b[0m             \u001b[0malt\u001b[0m\u001b[0;34m=\u001b[0m\u001b[0;32mlambda\u001b[0m \u001b[0mx\u001b[0m\u001b[0;34m,\u001b[0m \u001b[0maxis\u001b[0m\u001b[0;34m:\u001b[0m \u001b[0mSeries\u001b[0m\u001b[0;34m(\u001b[0m\u001b[0mx\u001b[0m\u001b[0;34m)\u001b[0m\u001b[0;34m.\u001b[0m\u001b[0mmean\u001b[0m\u001b[0;34m(\u001b[0m\u001b[0mnumeric_only\u001b[0m\u001b[0;34m=\u001b[0m\u001b[0mnumeric_only\u001b[0m\u001b[0;34m)\u001b[0m\u001b[0;34m,\u001b[0m\u001b[0;34m\u001b[0m\u001b[0;34m\u001b[0m\u001b[0m\n",
      "\u001b[0;32m~/opt/anaconda3/lib/python3.8/site-packages/pandas/core/groupby/groupby.py\u001b[0m in \u001b[0;36m_cython_agg_general\u001b[0;34m(self, how, alt, numeric_only, min_count)\u001b[0m\n\u001b[1;32m   1079\u001b[0m \u001b[0;34m\u001b[0m\u001b[0m\n\u001b[1;32m   1080\u001b[0m         \u001b[0;32mif\u001b[0m \u001b[0;32mnot\u001b[0m \u001b[0moutput\u001b[0m\u001b[0;34m:\u001b[0m\u001b[0;34m\u001b[0m\u001b[0;34m\u001b[0m\u001b[0m\n\u001b[0;32m-> 1081\u001b[0;31m             \u001b[0;32mraise\u001b[0m \u001b[0mDataError\u001b[0m\u001b[0;34m(\u001b[0m\u001b[0;34m\"No numeric types to aggregate\"\u001b[0m\u001b[0;34m)\u001b[0m\u001b[0;34m\u001b[0m\u001b[0;34m\u001b[0m\u001b[0m\n\u001b[0m\u001b[1;32m   1082\u001b[0m \u001b[0;34m\u001b[0m\u001b[0m\n\u001b[1;32m   1083\u001b[0m         \u001b[0;32mreturn\u001b[0m \u001b[0mself\u001b[0m\u001b[0;34m.\u001b[0m\u001b[0m_wrap_aggregated_output\u001b[0m\u001b[0;34m(\u001b[0m\u001b[0moutput\u001b[0m\u001b[0;34m,\u001b[0m \u001b[0mindex\u001b[0m\u001b[0;34m=\u001b[0m\u001b[0mself\u001b[0m\u001b[0;34m.\u001b[0m\u001b[0mgrouper\u001b[0m\u001b[0;34m.\u001b[0m\u001b[0mresult_index\u001b[0m\u001b[0;34m)\u001b[0m\u001b[0;34m\u001b[0m\u001b[0;34m\u001b[0m\u001b[0m\n",
      "\u001b[0;31mDataError\u001b[0m: No numeric types to aggregate"
     ]
    }
   ],
   "source": [
    "team_possession = df.groupby('team1')['possession team1'].mean().reset_index()\n",
    "team_possession.columns = ['Team', 'Average Possession']\n",
    "\n",
    "team_possession['Average Possession'] += df.groupby('team2')['possession team2'].mean().reset_index()['possession team2']"
   ]
  },
  {
   "cell_type": "code",
   "execution_count": null,
   "metadata": {},
   "outputs": [
    {
     "data": {
      "image/png": "[encoded data removed]",
      "text/plain": [
       "<Figure size 720x432 with 1 Axes>"
      ]
     },
     "metadata": {
      "needs_background": "light"
     },
     "output_type": "display_data"
    }
   ],
   "source": [
    "plt.figure(figsize=(10,6))\n",
    "plt.bar(team_possession['Team'], team_possession['Average Possession'])\n",
    "plt.xlabel('Team')\n",
    "plt.ylabel('Average Possession')\n",
    "plt.title('Average Possession for Each Team')\n",
    "plt.xticks(rotation=90)\n",
    "plt.show()"
   ]
  },
  {
   "attachments": {},
   "cell_type": "markdown",
   "metadata": {},
   "source": [
    "### ATTEMPTS"
   ]
  }
 ],
 "metadata": {
  "kernelspec": {
   "display_name": "Python 3.8.8 ('base')",
   "language": "python",
   "name": "python3"
  },
  "language_info": {
   "codemirror_mode": {
    "name": "ipython",
    "version": 3
   },
   "file_extension": ".py",
   "mimetype": "text/x-python",
   "name": "python",
   "nbconvert_exporter": "python",
   "pygments_lexer": "ipython3",
   "version": "3.8.8"
  },
  "orig_nbformat": 4,
  "vscode": {
   "interpreter": {
    "hash": "44bd7140a60fa536d8e38a659687cb8d368afa2b7bc63557996eb91209ae506e"
   }
  }
 },
 "nbformat": 4,
 "nbformat_minor": 2
}
